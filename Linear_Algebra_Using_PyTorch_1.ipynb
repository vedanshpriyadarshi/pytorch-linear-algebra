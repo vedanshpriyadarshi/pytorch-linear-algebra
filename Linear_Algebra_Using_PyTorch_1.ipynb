{
  "cells": [
    {
      "cell_type": "markdown",
      "metadata": {},
      "source": [
        "Updated: 24 Feb 2024\n",
        "\n",
        "URL: https://github.com/vedanshpriyadarshi/pytorch-linear-algebra"
      ]
    },
    {
      "cell_type": "markdown",
      "metadata": {
        "id": "yQIwsL73pPcm"
      },
      "source": [
        "# 1. Introduction to Linear Algebra & PyTorch Basics"
      ]
    },
    {
      "cell_type": "markdown",
      "metadata": {
        "id": "5O2h6hICpjNb"
      },
      "source": [
        "## 1.1. Python Programming Essentials"
      ]
    },
    {
      "cell_type": "markdown",
      "metadata": {
        "id": "W1zbzu8Fpoo3"
      },
      "source": [
        "Python is an objective, high-level, interpreted, and easy-to-learn programming language. It is called the language of choice for beginners and is widely used by developers in various fields like web development, game development, machine learning, artificial intelligence, data analysis, and more. It is popular due to its simplicity and a huge selection of libraries that can help us achieve results faster and more effectively.\n"
      ]
    },
    {
      "cell_type": "markdown",
      "metadata": {
        "id": "oYbD0aI-pqG1"
      },
      "source": [
        "Let's start with basic programming convention: print \"Hello, World!\""
      ]
    },
    {
      "cell_type": "code",
      "execution_count": 37,
      "metadata": {
        "colab": {
          "base_uri": "https://localhost:8080/"
        },
        "id": "0-FGN0ocpIyP",
        "outputId": "b3244cac-b612-4f12-88d1-9fb5be79a703"
      },
      "outputs": [
        {
          "name": "stdout",
          "output_type": "stream",
          "text": [
            "Hello, World!\n"
          ]
        }
      ],
      "source": [
        "# The print() function prints the specified message\n",
        "print(\"Hello, World!\")"
      ]
    },
    {
      "cell_type": "markdown",
      "metadata": {
        "id": "73BAXnuOp_MZ"
      },
      "source": [
        "### 1.1.1 Variables in Python\n",
        "Variables are nothing but the reserved memory locations to store values.\n"
      ]
    },
    {
      "cell_type": "code",
      "execution_count": 90,
      "metadata": {
        "id": "6KayKjjWpvYA"
      },
      "outputs": [],
      "source": [
        "# In Python, we don't need to declare a variable; just simply assign a value to it\n",
        "a = 10\n",
        "b = 5.5\n",
        "c = \"Hello World\""
      ]
    },
    {
      "cell_type": "markdown",
      "metadata": {
        "id": "9IJ5QM00qPT_"
      },
      "source": [
        "### 1.1.2 Data Types in Python\n",
        "The fundamental data types in Python are numbers, strings and booleans."
      ]
    },
    {
      "cell_type": "code",
      "execution_count": 39,
      "metadata": {
        "colab": {
          "base_uri": "https://localhost:8080/"
        },
        "id": "BglQm9C3qIUK",
        "outputId": "23f42d16-35cf-4e19-e547-46657f42b1dd"
      },
      "outputs": [
        {
          "name": "stdout",
          "output_type": "stream",
          "text": [
            "<class 'int'>\n",
            "<class 'float'>\n",
            "<class 'str'>\n",
            "<class 'bool'>\n"
          ]
        }
      ],
      "source": [
        "# Integer\n",
        "x = 5\n",
        "print(type(x))\n",
        "\n",
        "# Float\n",
        "y = 5.5\n",
        "print(type(y))\n",
        "\n",
        "# String\n",
        "z = 'Hello'\n",
        "print(type(z))\n",
        "\n",
        "# Boolean\n",
        "a = True\n",
        "print(type(a))"
      ]
    },
    {
      "cell_type": "markdown",
      "metadata": {
        "id": "RVyKMHgNqaNu"
      },
      "source": [
        "### 1.1.3 Python List and Tuple\n",
        "Lists and Tuples are ordered collections of items."
      ]
    },
    {
      "cell_type": "code",
      "execution_count": 40,
      "metadata": {
        "colab": {
          "base_uri": "https://localhost:8080/"
        },
        "id": "SDSbow3kqVjl",
        "outputId": "4056006f-b595-479a-ad6e-34e339f9a517"
      },
      "outputs": [
        {
          "name": "stdout",
          "output_type": "stream",
          "text": [
            "[1, 2, 3, 'hello', 5.5]\n",
            "(1, 2, 3, 'hello', 5.5)\n"
          ]
        }
      ],
      "source": [
        "# List\n",
        "list = [1,2,3, 'hello', 5.5]\n",
        "print(list)\n",
        "\n",
        "# Tuple\n",
        "tuple = (1,2,3, 'hello', 5.5)\n",
        "print(tuple)\n"
      ]
    },
    {
      "cell_type": "markdown",
      "metadata": {
        "id": "bxemHK5zqmG5"
      },
      "source": [
        "### 1.1.4 Python Dictionary\n",
        "Python dictionary is an unordered collection of items. Items are stored as key-value pairs."
      ]
    },
    {
      "cell_type": "code",
      "execution_count": 41,
      "metadata": {
        "colab": {
          "base_uri": "https://localhost:8080/"
        },
        "id": "idcC8RHXqevD",
        "outputId": "041a71fe-7398-4a9a-d284-a261bc3e8d8e"
      },
      "outputs": [
        {
          "name": "stdout",
          "output_type": "stream",
          "text": [
            "{'name': 'John', 'age': 20, 'occupation': 'Engineer'}\n"
          ]
        }
      ],
      "source": [
        "# Dictionary\n",
        "dict = {'name': 'John', 'age': 20, 'occupation': 'Engineer'}\n",
        "print(dict)"
      ]
    },
    {
      "cell_type": "markdown",
      "metadata": {
        "id": "QCzim0Z4qtPa"
      },
      "source": [
        "### 1.1.5 Python Control Structures\n",
        "Control structures control the flow of our program. The main control structures in Python are if, for, and while."
      ]
    },
    {
      "cell_type": "code",
      "execution_count": 42,
      "metadata": {
        "colab": {
          "base_uri": "https://localhost:8080/"
        },
        "id": "jxZvStc8qqrF",
        "outputId": "b302f1ec-0110-4599-bbf1-f1e73e39893c"
      },
      "outputs": [
        {
          "name": "stdout",
          "output_type": "stream",
          "text": [
            "x is greater than 5\n",
            "0\n",
            "1\n",
            "2\n",
            "3\n",
            "4\n",
            "0\n",
            "1\n",
            "2\n",
            "3\n",
            "4\n"
          ]
        }
      ],
      "source": [
        "# If-Else\n",
        "x = 10\n",
        "if x > 5:\n",
        "    print('x is greater than 5')\n",
        "else:\n",
        "    print('x is not greater than 5')\n",
        "\n",
        "# For Loop\n",
        "for i in range(5):\n",
        "    print(i)\n",
        "\n",
        "# While Loop\n",
        "i = 0\n",
        "while i < 5:\n",
        "    print(i)\n",
        "    i += 1\n"
      ]
    },
    {
      "cell_type": "markdown",
      "metadata": {
        "id": "wZ9eXwRcrJXN"
      },
      "source": [
        "### 1.1.6 Python Functions\n",
        "A function is a block of organized, reusable code that is used to perform a single, related action."
      ]
    },
    {
      "cell_type": "code",
      "execution_count": 43,
      "metadata": {
        "colab": {
          "base_uri": "https://localhost:8080/"
        },
        "id": "y3gK8m0Jq37j",
        "outputId": "f1a53afa-162d-4169-deb1-0bbfb9cf5111"
      },
      "outputs": [
        {
          "name": "stdout",
          "output_type": "stream",
          "text": [
            "Hello, World\n"
          ]
        }
      ],
      "source": [
        "# Function Definition\n",
        "def greet(name):\n",
        "    return \"Hello, \" + name\n",
        "\n",
        "# Function Call\n",
        "print(greet(\"World\"))\n"
      ]
    },
    {
      "cell_type": "markdown",
      "metadata": {
        "id": "8GSwSpqHtYfF"
      },
      "source": [
        "## 1.2 Introduction to PyTorch\n",
        "PyTorch is a popular and widely used open-source machine learning library for Python based on Torch, which is an open-source machine learning library, a scientific computing framework, and a script language based on the Lua programming language.\n"
      ]
    },
    {
      "cell_type": "markdown",
      "metadata": {
        "id": "rOn495rmtue3"
      },
      "source": [
        "### 1.2.1 Installation and Setup\n",
        "To begin using PyTorch, we first need to install it."
      ]
    },
    {
      "cell_type": "code",
      "execution_count": 44,
      "metadata": {
        "colab": {
          "base_uri": "https://localhost:8080/"
        },
        "id": "qa28QRRwrL4c",
        "outputId": "253f100f-d0ac-472c-c700-55be482105ec"
      },
      "outputs": [
        {
          "name": "stdout",
          "output_type": "stream",
          "text": [
            "Requirement already satisfied: torch in /Users/vedansh/miniconda3/lib/python3.11/site-packages (2.1.1)\n",
            "Requirement already satisfied: filelock in /Users/vedansh/miniconda3/lib/python3.11/site-packages (from torch) (3.12.2)\n",
            "Requirement already satisfied: typing-extensions in /Users/vedansh/miniconda3/lib/python3.11/site-packages (from torch) (4.9.0)\n",
            "Requirement already satisfied: sympy in /Users/vedansh/miniconda3/lib/python3.11/site-packages (from torch) (1.12)\n",
            "Requirement already satisfied: networkx in /Users/vedansh/miniconda3/lib/python3.11/site-packages (from torch) (2.8.8)\n",
            "Requirement already satisfied: jinja2 in /Users/vedansh/miniconda3/lib/python3.11/site-packages (from torch) (3.1.2)\n",
            "Requirement already satisfied: fsspec in /Users/vedansh/miniconda3/lib/python3.11/site-packages (from torch) (2023.6.0)\n",
            "Requirement already satisfied: MarkupSafe>=2.0 in /Users/vedansh/miniconda3/lib/python3.11/site-packages (from jinja2->torch) (2.1.3)\n",
            "Requirement already satisfied: mpmath>=0.19 in /Users/vedansh/miniconda3/lib/python3.11/site-packages (from sympy->torch) (1.3.0)\n"
          ]
        }
      ],
      "source": [
        "! pip install torch"
      ]
    },
    {
      "cell_type": "markdown",
      "metadata": {
        "id": "Xf-6InTJuZRh"
      },
      "source": [
        "Torch is already installed in this environment!"
      ]
    },
    {
      "cell_type": "markdown",
      "metadata": {
        "id": "w1keJdFlujiE"
      },
      "source": [
        "### 1.2.2 Basic Tensor Operations\n",
        "Tensors are the primary data structures used by neural networks, and PyTorch is built around tensors.\n",
        "\n",
        "Here's how to use tensors in PyTorch:\n"
      ]
    },
    {
      "cell_type": "code",
      "execution_count": 45,
      "metadata": {
        "colab": {
          "base_uri": "https://localhost:8080/"
        },
        "id": "Wp-N5qvjuWQc",
        "outputId": "62e2a4bd-5e2b-4091-80d5-a2a3db8011e7"
      },
      "outputs": [
        {
          "name": "stdout",
          "output_type": "stream",
          "text": [
            "tensor([10.,  3.])\n"
          ]
        }
      ],
      "source": [
        "# Import the PyTorch Library\n",
        "import torch\n",
        "\n",
        "# Create a tensor\n",
        "x = torch.Tensor([5,3])\n",
        "y = torch.Tensor([2,1])\n",
        "\n",
        "print(x*y)\n"
      ]
    },
    {
      "cell_type": "markdown",
      "metadata": {
        "id": "-WRoeSQhu3M1"
      },
      "source": [
        "It gives tensor([10., 3.]) as output. We create two tensors, x, and y, and multiply them.\n"
      ]
    },
    {
      "cell_type": "markdown",
      "metadata": {
        "id": "h6ceoD2mvAV5"
      },
      "source": [
        "### 1.2.3 Understanding Computational Graphs and Autograd\n",
        "In PyTorch, every operation on a tensor creates a computational graph. A computational graph is a series of PyTorch Tensors combined together by PyTorch operations. The graph records how to compute gradients and then automatically updates them.\n"
      ]
    },
    {
      "cell_type": "markdown",
      "metadata": {
        "id": "XUTp0PHWvHYh"
      },
      "source": [
        "Here's how autograd works in PyTorch:"
      ]
    },
    {
      "cell_type": "code",
      "execution_count": 46,
      "metadata": {
        "colab": {
          "base_uri": "https://localhost:8080/"
        },
        "id": "O-jTGArwuu7W",
        "outputId": "92b5afa3-1b5b-499d-afb0-33d268aff127"
      },
      "outputs": [
        {
          "name": "stdout",
          "output_type": "stream",
          "text": [
            "tensor(2.)\n",
            "tensor(1.)\n",
            "tensor(1.)\n"
          ]
        }
      ],
      "source": [
        "# Create tensors.\n",
        "x = torch.tensor(1., requires_grad=True)\n",
        "w = torch.tensor(2., requires_grad=True)\n",
        "b = torch.tensor(3., requires_grad=True)\n",
        "\n",
        "# Build a computational graph.\n",
        "y = w*x + b  # y = 2*x + 3\n",
        "\n",
        "# Compute gradients.\n",
        "y.backward()\n",
        "\n",
        "# Print out the gradients.\n",
        "print(x.grad)    # x.grad = 2\n",
        "print(w.grad)    # w.grad = 1\n",
        "print(b.grad)    # b.grad = 1\n"
      ]
    },
    {
      "cell_type": "markdown",
      "metadata": {
        "id": "Y8tUOZo8vaFF"
      },
      "source": [
        "## 1.3. Transitioning from NumPy to PyTorch\n",
        "NumPy is a fundamental package for scientific computing in Python, including support for a powerful N-dimensional array object. Being familiar with NumPy, transitioning to Torch will be a smoother experience since PyTorch's syntax and usage are similar to NumPy. PyTorch leverages these similarities, and differences, to offer a more streamlined and extended functionality for machine learning and deep learning applications.\n"
      ]
    },
    {
      "cell_type": "markdown",
      "metadata": {
        "id": "VyuLaiwYvkwr"
      },
      "source": [
        "Let's demonstrate some similarities and distinctive features between NumPy and PyTorch:\n"
      ]
    },
    {
      "cell_type": "markdown",
      "metadata": {
        "id": "hYPnKQwavpuD"
      },
      "source": [
        "### 1.3.1 Creating an Array in NumPy and a Tensor in PyTorch\n",
        "Arrays and tensors are very similar. In fact, tensors are a generalization of matrices to higher dimensions and behave very much like NumPy arrays.\n"
      ]
    },
    {
      "cell_type": "code",
      "execution_count": 47,
      "metadata": {
        "colab": {
          "base_uri": "https://localhost:8080/"
        },
        "id": "DTURSE20vKG6",
        "outputId": "02f695f6-ca1d-4a94-fbe9-144be89b3fba"
      },
      "outputs": [
        {
          "name": "stdout",
          "output_type": "stream",
          "text": [
            "NumPy array: [1 2 3 4 5]\n",
            "PyTorch tensor: tensor([1., 2., 3., 4., 5.])\n"
          ]
        }
      ],
      "source": [
        "# Import necessary libraries\n",
        "import numpy as np\n",
        "import torch\n",
        "\n",
        "# Create a 1D NumPy array\n",
        "numpy_array = np.array([1, 2, 3, 4, 5])\n",
        "print(f\"NumPy array: {numpy_array}\")\n",
        "\n",
        "# Create a 1D PyTorch tensor\n",
        "torch_tensor = torch.Tensor([1, 2, 3, 4, 5])\n",
        "print(f\"PyTorch tensor: {torch_tensor}\")\n"
      ]
    },
    {
      "cell_type": "markdown",
      "metadata": {
        "id": "touIVAa3vzpr"
      },
      "source": [
        "### 1.3.2 Converting between NumPy Array and PyTorch Tensor"
      ]
    },
    {
      "cell_type": "markdown",
      "metadata": {
        "id": "5-SzkjOzv4Op"
      },
      "source": [
        "PyTorch allows easy conversion between NumPy arrays and Torch tensors.\n"
      ]
    },
    {
      "cell_type": "code",
      "execution_count": 48,
      "metadata": {
        "colab": {
          "base_uri": "https://localhost:8080/"
        },
        "id": "ZcxyZmKpvwMO",
        "outputId": "71bcb7e9-c104-485d-e2b5-901b3fdb132d"
      },
      "outputs": [
        {
          "name": "stdout",
          "output_type": "stream",
          "text": [
            "Converted tensor: tensor([1, 2, 3, 4, 5])\n",
            "Back to NumPy array: [1 2 3 4 5]\n"
          ]
        }
      ],
      "source": [
        "# Converting a NumPy array to a PyTorch tensor\n",
        "numpy_array = np.array([1, 2, 3, 4, 5])\n",
        "torch_tensor = torch.from_numpy(numpy_array)\n",
        "print(f\"Converted tensor: {torch_tensor}\")\n",
        "\n",
        "# Converting a PyTorch tensor to a NumPy array\n",
        "back_to_numpy = torch_tensor.numpy()\n",
        "print(f\"Back to NumPy array: {back_to_numpy}\")"
      ]
    },
    {
      "cell_type": "markdown",
      "metadata": {
        "id": "CtaPlODHwB6M"
      },
      "source": [
        "### 1.3.3 NumPy and PyTorch Operations"
      ]
    },
    {
      "cell_type": "code",
      "execution_count": 49,
      "metadata": {
        "colab": {
          "base_uri": "https://localhost:8080/"
        },
        "id": "yNZlUGafv86H",
        "outputId": "3134a3d7-8a51-4517-dd82-9a643af8a45a"
      },
      "outputs": [
        {
          "name": "stdout",
          "output_type": "stream",
          "text": [
            "Addition: tensor([5, 7, 9])\n",
            "Subtraction: tensor([-3, -3, -3])\n",
            "Multiplication: tensor([ 4, 10, 18])\n",
            "Division: tensor([0.2500, 0.4000, 0.5000])\n",
            "Matrix multiplication result: tensor([[0.4278, 0.7089, 0.5244, 0.7084, 0.7408],\n",
            "        [1.2720, 1.1954, 1.2738, 1.7368, 1.5056],\n",
            "        [0.8447, 1.1662, 1.0401, 1.2737, 1.1389]])\n"
          ]
        }
      ],
      "source": [
        "# Create tensors\n",
        "tensor1 = torch.tensor([1, 2, 3])\n",
        "tensor2 = torch.tensor([4, 5, 6])\n",
        "\n",
        "# Addition\n",
        "print(f\"Addition: {tensor1 + tensor2}\")\n",
        "\n",
        "# Subtraction\n",
        "print(f\"Subtraction: {tensor1 - tensor2}\")\n",
        "\n",
        "# Multiplication\n",
        "print(f\"Multiplication: {tensor1 * tensor2}\")\n",
        "\n",
        "# Division\n",
        "print(f\"Division: {tensor1 / tensor2}\")\n",
        "\n",
        "# Matrix Multiplication\n",
        "tensor3 = torch.rand((3, 4))\n",
        "tensor4 = torch.rand((4, 5))\n",
        "matrix_mul_result = torch.mm(tensor3, tensor4)\n",
        "print(f\"Matrix multiplication result: {matrix_mul_result}\")\n"
      ]
    },
    {
      "cell_type": "markdown",
      "metadata": {
        "id": "lynIHwbxwLvR"
      },
      "source": [
        "A critical feature that differentiates PyTorch from NumPy is its ability to perform automatic differentiation and gradient descent, and hence it's more suitable for deep learning. PyTorch tensors behave like arrays but also keep track of a computational graph and gradients."
      ]
    },
    {
      "cell_type": "markdown",
      "metadata": {
        "id": "zyWjDtXZwgBq"
      },
      "source": [
        "# 2. Vectors with PyTorch\n",
        "Vectors are fundamental to Linear Algebra and Machine Learning. The ability to understand and manipulate vectors is key to understanding machine learning algorithms.\n"
      ]
    },
    {
      "cell_type": "markdown",
      "metadata": {
        "id": "hZRxrhjhxkRJ"
      },
      "source": [
        "## 2.1 Understanding Tensors as Vectors\n",
        "In PyTorch, Tensors are multi-dimensional arrays. They are similar to NumPy’s ndarrays, but also they can be used on a GPU to accelerate computing. A vector is a one-dimensional tensor; a matrix is a two-dimensional tensor, an array with three indices is a three-dimensional tensor (RGB color images for example).\n",
        "\n",
        "So how do we create tensors in PyTorch? We can easily convert a NumPy array to a PyTorch tensor using torch.tensor().\n"
      ]
    },
    {
      "cell_type": "markdown",
      "metadata": {
        "id": "uVz2g9zbyewP"
      },
      "source": [
        "### 2.1.1 Creating 1D tensor in Pytorch (Vector)\n"
      ]
    },
    {
      "cell_type": "code",
      "execution_count": 50,
      "metadata": {
        "colab": {
          "base_uri": "https://localhost:8080/"
        },
        "id": "KZ1udKLWwFa_",
        "outputId": "1c79fd3c-a1e4-40da-9ed9-0e0d6e71271f"
      },
      "outputs": [
        {
          "name": "stdout",
          "output_type": "stream",
          "text": [
            "tensor([1, 2, 3, 4, 5])\n",
            "Dimension: 1\n"
          ]
        }
      ],
      "source": [
        "import torch\n",
        "\n",
        "# Creating a 1D tensor\n",
        "t1 = torch.tensor([1,2,3,4,5])\n",
        "print(t1)\n",
        "\n",
        "# Let's check the dimension of the tensor using ndimension() function\n",
        "print(f'Dimension: {t1.ndim}')\n"
      ]
    },
    {
      "cell_type": "markdown",
      "metadata": {
        "id": "jiug_DDpypWx"
      },
      "source": [
        "Each tensor has an attribute .dtype, that object describes the type of every item in the tensor.\n"
      ]
    },
    {
      "cell_type": "code",
      "execution_count": 51,
      "metadata": {
        "colab": {
          "base_uri": "https://localhost:8080/"
        },
        "id": "6vAHZ3TZym9s",
        "outputId": "da0b3dc1-eec3-48bd-941e-471f0f978b58"
      },
      "outputs": [
        {
          "name": "stdout",
          "output_type": "stream",
          "text": [
            "Data Type: torch.int64\n"
          ]
        }
      ],
      "source": [
        "print(f'Data Type: {t1.dtype}')"
      ]
    },
    {
      "cell_type": "markdown",
      "metadata": {
        "id": "5lK5vM0eyvGl"
      },
      "source": [
        "We can see the tensor we created is 1-dimensional, thus it's a vector and its data type is torch.int64. By default, PyTorch creates tensors with dtype=torch.float32 for floating point tensors.\n"
      ]
    },
    {
      "cell_type": "markdown",
      "metadata": {
        "id": "woiVtzMxyy__"
      },
      "source": [
        "Tensors can be moved onto any device using the .to method.\n"
      ]
    },
    {
      "cell_type": "code",
      "execution_count": 52,
      "metadata": {
        "id": "9LFdybSyy0Jx"
      },
      "outputs": [],
      "source": [
        "# Let's move our tensor to our machine's GPU if it is available\n",
        "if torch.cuda.is_available():\n",
        "    t1.to(\"cuda\")"
      ]
    },
    {
      "cell_type": "markdown",
      "metadata": {
        "id": "YBotwIHhy9rR"
      },
      "source": [
        "In order to choose dimensions of the tensor wisely, always consider the format in which our input data is to be fed into model.\n",
        "\n"
      ]
    },
    {
      "cell_type": "markdown",
      "metadata": {
        "id": "KpgtbJac3faQ"
      },
      "source": [
        "### 2.1.2 Visualizing Vector (can be thought as 1D Tensor)"
      ]
    },
    {
      "cell_type": "code",
      "execution_count": 92,
      "metadata": {
        "colab": {
          "base_uri": "https://localhost:8080/",
          "height": 455
        },
        "id": "ftQEK7tb4V5R",
        "outputId": "dea440ee-a9e4-4519-cb7f-436237dded05"
      },
      "outputs": [
        {
          "data": {
            "image/png": "[encoded data removed]",
            "text/plain": [
              "<Figure size 600x600 with 1 Axes>"
            ]
          },
          "metadata": {},
          "output_type": "display_data"
        }
      ],
      "source": [
        "import torch\n",
        "import matplotlib.pyplot as plt\n",
        "\n",
        "# Create a 1D tensor, for instance, torch tensor [1, 2, 3]\n",
        "t = torch.tensor([1, 2, 3])\n",
        "\n",
        "# Create a 2D plot\n",
        "fig, ax = plt.subplots(figsize=(6, 6))\n",
        "\n",
        "# Quiver plot requires start points (0,0 in this case) and end points of the vector\n",
        "# For 2D, we'll just use the first two components of the tensor\n",
        "ax.quiver(0, 0, t[0].item(), t[1].item(), angles='xy', scale_units='xy', scale=1)\n",
        "\n",
        "# Setting the limits for the axes for better visualization\n",
        "ax.set_xlim([-4, 4])\n",
        "ax.set_ylim([-4, 4])\n",
        "\n",
        "# Adding labels and title\n",
        "ax.set_xlabel('X axis')\n",
        "ax.set_ylabel('Y axis')\n",
        "ax.set_title('2D Vector Visualization')\n",
        "\n",
        "# Show the plot\n",
        "plt.grid(True)\n",
        "plt.show()\n"
      ]
    },
    {
      "cell_type": "markdown",
      "metadata": {
        "id": "sbwwN78Lxu5C"
      },
      "source": [
        "## 2.2 Vector Operations\n",
        "Vector operations are fundamental in linear algebra and are central to many operations in deep learning. PyTorch provides an extensive suite of operations that can be performed on vectors, which are represented as one-dimensional tensors in PyTorch.\n",
        "\n"
      ]
    },
    {
      "cell_type": "markdown",
      "metadata": {
        "id": "ZhOAR_Bax011"
      },
      "source": [
        "### 2.2.1 Addition, Subtraction, and Scalar Multiplication\n",
        "Addition and subtraction of vectors in PyTorch is done element-wise and it returns a new tensor of the same size. Scalar multiplication, on the other hand, multiplies every element of the vector by the scalar.\n"
      ]
    },
    {
      "cell_type": "code",
      "execution_count": 94,
      "metadata": {
        "colab": {
          "base_uri": "https://localhost:8080/"
        },
        "id": "4jOc5ptIxo3e",
        "outputId": "7d039e6d-b491-4327-ba8f-7814cd1ebfb1"
      },
      "outputs": [
        {
          "name": "stdout",
          "output_type": "stream",
          "text": [
            "Addition: tensor([5, 7, 9])\n",
            "Subtraction: tensor([-3, -3, -3])\n",
            "Scalar Multiplication: tensor([2, 4, 6])\n"
          ]
        }
      ],
      "source": [
        "# Defining our vectors\n",
        "v1 = torch.tensor([1, 2, 3])\n",
        "v2 = torch.tensor([4, 5, 6])\n",
        "\n",
        "# Addition\n",
        "v_add = torch.add(v1, v2)\n",
        "print(f\"Addition: {v_add}\")\n",
        "\n",
        "# Subtraction\n",
        "v_sub = torch.sub(v1, v2)\n",
        "print(f\"Subtraction: {v_sub}\")\n",
        "\n",
        "# Scalar Multiplication\n",
        "v_scalar_mul = torch.mul(v1, 2)\n",
        "print(f\"Scalar Multiplication: {v_scalar_mul}\")\n"
      ]
    },
    {
      "cell_type": "markdown",
      "metadata": {
        "id": "qTH7Yco9x97L"
      },
      "source": [
        "### 2.2.2 Dot Product and Cross Product\n",
        "The dot product is computed as the sum of the product of the elements in the vectors. The cross product, however, returns a vector that is orthogonal (perpendicular) to the given vectors.\n",
        "\n",
        "\n"
      ]
    },
    {
      "cell_type": "code",
      "execution_count": 55,
      "metadata": {
        "colab": {
          "base_uri": "https://localhost:8080/"
        },
        "id": "0EdyZW1Qx7Ir",
        "outputId": "778a9090-9bd2-420b-e910-21592898b795"
      },
      "outputs": [
        {
          "name": "stdout",
          "output_type": "stream",
          "text": [
            "Dot Product: 32\n",
            "Cross Product: tensor([-3,  6, -3])\n"
          ]
        }
      ],
      "source": [
        "# Dot Product\n",
        "v_dot = torch.dot(v1, v2)\n",
        "print(f\"Dot Product: {v_dot}\")\n",
        "\n",
        "# Cross Product\n",
        "v_cross = torch.cross(v1, v2)\n",
        "print(f\"Cross Product: {v_cross}\")\n"
      ]
    },
    {
      "cell_type": "markdown",
      "metadata": {
        "id": "8nctgQn_z4cv"
      },
      "source": [
        "### 2.2.3 Norms and Distance Measures\n",
        "The norm of a vector is a measure of its length. In the Euclidean space, the norm (or the length) of the vector can be defined using the Pythagorean theorem and is often noted as $||v||^2$ where 2 is a subscript. Norms, including the Euclidean norm, are mathematical properties that can be calculated using PyTorch.\n",
        "\n",
        "In addition, PyTorch allows for the computation of vector distances which measure the length of the line segment connecting two points in the vector space.\n",
        "\n",
        "Here's how we calculate the norm and the Euclidean distance between two vectors in PyTorch:"
      ]
    },
    {
      "cell_type": "code",
      "execution_count": 56,
      "metadata": {
        "colab": {
          "base_uri": "https://localhost:8080/"
        },
        "id": "CGu9HGVTzrt2",
        "outputId": "1543a5f7-7194-4dc0-83c2-f3fbfed38914"
      },
      "outputs": [
        {
          "name": "stdout",
          "output_type": "stream",
          "text": [
            "Norm of v1: 3.7416574954986572\n",
            "Euclidean distance between v1 and v2: 5.196152210235596\n"
          ]
        }
      ],
      "source": [
        "# Defining our vectors\n",
        "v1 = torch.tensor([1, 2, 3])\n",
        "v2 = torch.tensor([4, 5, 6])\n",
        "\n",
        "# Let's convert v1 and v2 to floating point tensors\n",
        "v1 = v1.float()\n",
        "v2 = v2.float()\n",
        "\n",
        "# Now, let's compute the norm\n",
        "v1_norm = torch.norm(v1)\n",
        "print(f\"Norm of v1: {v1_norm}\")\n",
        "\n",
        "# And the distance\n",
        "dist = torch.dist(v1, v2)\n",
        "print(f\"Euclidean distance between v1 and v2: {dist}\")\n",
        "\n"
      ]
    },
    {
      "cell_type": "markdown",
      "metadata": {
        "id": "ErmCmDAP4zr1"
      },
      "source": [
        "### 2.2.4 Visualization"
      ]
    },
    {
      "cell_type": "markdown",
      "metadata": {
        "id": "WLq3dG5N43mz"
      },
      "source": [
        "Addition, Subtraction, and Scalar Multiplication"
      ]
    },
    {
      "cell_type": "code",
      "execution_count": 95,
      "metadata": {
        "colab": {
          "base_uri": "https://localhost:8080/",
          "height": 829
        },
        "id": "ysGb0iOT46kO",
        "outputId": "f147bdd2-6d77-4dc8-f7dc-0a0770ce823d"
      },
      "outputs": [
        {
          "data": {
            "image/png": "[encoded data removed]",
            "text/plain": [
              "<Figure size 800x800 with 1 Axes>"
            ]
          },
          "metadata": {},
          "output_type": "display_data"
        }
      ],
      "source": [
        "# Defining the vectors\n",
        "v1 = torch.tensor([1, 2, 3])\n",
        "v2 = torch.tensor([4, 5, 6])\n",
        "\n",
        "# Performing operations\n",
        "v_add = torch.add(v1, v2)          # Addition\n",
        "v_sub = torch.sub(v1, v2)          # Subtraction\n",
        "v_scalar_mul = torch.mul(v1, 2)    # Scalar Multiplication\n",
        "\n",
        "# Create a 2D plot for visualization\n",
        "fig, ax = plt.subplots(figsize=(8, 8))\n",
        "\n",
        "# Quiver plot for the vectors and their operations\n",
        "# For 2D, we use only the first two components of each tensor\n",
        "ax.quiver(0, 0, v1[0].item(), v1[1].item(), angles='xy', scale_units='xy', scale=1, color='r', label='v1')\n",
        "ax.quiver(0, 0, v2[0].item(), v2[1].item(), angles='xy', scale_units='xy', scale=1, color='g', label='v2')\n",
        "ax.quiver(0, 0, v_add[0].item(), v_add[1].item(), angles='xy', scale_units='xy', scale=1, color='b', label='v1 + v2')\n",
        "ax.quiver(0, 0, v_sub[0].item(), v_sub[1].item(), angles='xy', scale_units='xy', scale=1, color='y', label='v1 - v2')\n",
        "ax.quiver(0, 0, v_scalar_mul[0].item(), v_scalar_mul[1].item(), angles='xy', scale_units='xy', scale=1, color='purple', label='2 * v1')\n",
        "\n",
        "# Setting the limits for the axes for better visualization\n",
        "ax.set_xlim([-10, 10])\n",
        "ax.set_ylim([-10, 10])\n",
        "\n",
        "# Adding labels, title, legend, and grid\n",
        "ax.set_xlabel('X axis')\n",
        "ax.set_ylabel('Y axis')\n",
        "ax.set_title('2D Vector Operations Visualization')\n",
        "ax.legend()\n",
        "plt.grid(True)\n",
        "\n",
        "# Show the plot\n",
        "plt.show()\n"
      ]
    },
    {
      "cell_type": "markdown",
      "metadata": {
        "id": "5e5x3mlB6L8j"
      },
      "source": [
        "Cross Product"
      ]
    },
    {
      "cell_type": "code",
      "execution_count": 97,
      "metadata": {
        "colab": {
          "base_uri": "https://localhost:8080/",
          "height": 829
        },
        "id": "LNwLd9Cy6M5i",
        "outputId": "da3ba9e3-b1ed-454e-e888-264ff19fbc68"
      },
      "outputs": [
        {
          "data": {
            "image/png": "[encoded data removed]",
            "text/plain": [
              "<Figure size 800x800 with 1 Axes>"
            ]
          },
          "metadata": {},
          "output_type": "display_data"
        }
      ],
      "source": [
        "import torch\n",
        "import matplotlib.pyplot as plt\n",
        "\n",
        "# Define two vectors\n",
        "a = torch.tensor([1, 2, 3], dtype=torch.float)\n",
        "b = torch.tensor([2, 1, 0], dtype=torch.float)\n",
        "\n",
        "# Perform cross product operation\n",
        "cross_product = torch.cross(a, b)\n",
        "\n",
        "# Extending the limits based on the cross product values\n",
        "x_limit = max(abs(cross_product[0].item()), a[0].item(), b[0].item()) + 1\n",
        "y_limit = max(abs(cross_product[1].item()), a[1].item(), b[1].item()) + 1\n",
        "\n",
        "# Create a 2D plot for visualization with updated limits\n",
        "fig, ax = plt.subplots(figsize=(8, 8))\n",
        "\n",
        "# Quiver plot for the vectors and their cross product\n",
        "ax.quiver(0, 0, a[0].item(), a[1].item(), angles='xy', scale_units='xy', scale=1, color='r', label='a')\n",
        "ax.quiver(0, 0, b[0].item(), b[1].item(), angles='xy', scale_units='xy', scale=1, color='g', label='b')\n",
        "ax.quiver(0, 0, cross_product[0].item(), cross_product[1].item(), angles='xy', scale_units='xy', scale=1, color='b', label='a x b')\n",
        "\n",
        "# Setting the new limits for the axes\n",
        "ax.set_xlim([-x_limit, x_limit])\n",
        "ax.set_ylim([-y_limit, y_limit])\n",
        "\n",
        "# Adding labels, title, legend, and grid\n",
        "ax.set_xlabel('X axis')\n",
        "ax.set_ylabel('Y axis')\n",
        "ax.set_title('2D Visualization of Cross Product (Adjusted Limits)')\n",
        "ax.legend()\n",
        "plt.grid(True)\n",
        "\n",
        "# Show the plot\n",
        "plt.show()\n"
      ]
    },
    {
      "cell_type": "markdown",
      "metadata": {
        "id": "8jE1I3ug6cXh"
      },
      "source": [
        "Norms"
      ]
    },
    {
      "cell_type": "code",
      "execution_count": 98,
      "metadata": {
        "colab": {
          "base_uri": "https://localhost:8080/",
          "height": 675
        },
        "id": "QZrP4pxp6cAf",
        "outputId": "e06241e7-a292-4bd7-b033-c5c76ca48798"
      },
      "outputs": [
        {
          "data": {
            "image/png": "[encoded data removed]",
            "text/plain": [
              "<Figure size 800x800 with 1 Axes>"
            ]
          },
          "metadata": {},
          "output_type": "display_data"
        }
      ],
      "source": [
        "# Define a vector\n",
        "a = torch.tensor([1, 2, 3], dtype=torch.float)\n",
        "\n",
        "# Calculate the norm (length) of the vector\n",
        "norm_a = torch.norm(a)\n",
        "\n",
        "# Create a 2D plot for visualization\n",
        "fig, ax = plt.subplots(figsize=(8, 8))\n",
        "\n",
        "# Quiver plot for the vector\n",
        "# For 2D, we use only the first two components of the tensor\n",
        "ax.quiver(0, 0, a[0].item(), a[1].item(), angles='xy', scale_units='xy', scale=1, color='r', label=f'a, Norm = {norm_a:.2f}')\n",
        "\n",
        "# Setting the limits for the axes for better visualization\n",
        "ax.set_xlim([-4, 4])\n",
        "ax.set_ylim([-4, 4])\n",
        "\n",
        "# Adding labels, title, legend, and grid\n",
        "ax.set_xlabel('X axis')\n",
        "ax.set_ylabel('Y axis')\n",
        "ax.set_title('2D Visualization of Vector Norm')\n",
        "ax.legend()\n",
        "plt.grid(True)\n",
        "\n",
        "# Show the plot\n",
        "plt.show()\n"
      ]
    },
    {
      "cell_type": "markdown",
      "metadata": {
        "id": "NkM1scOu07pB"
      },
      "source": [
        "## 2.3 PyTorch Exercises\n",
        "\n",
        "We've already covered a good amount of properties and operations that can be done with vectors. It's now time to put this knowledge to use and solidify the concepts by doing some exercises.\n"
      ]
    },
    {
      "cell_type": "markdown",
      "metadata": {
        "id": "PRcYqSGQ1CUl"
      },
      "source": [
        "### 2.3.1 Implementing Basic Vector Operations\n",
        "Let's perform the operations we have learned so far with a new set of vectors. This will help us understand the vector operations that PyTorch can perform.\n"
      ]
    },
    {
      "cell_type": "code",
      "execution_count": 60,
      "metadata": {
        "colab": {
          "base_uri": "https://localhost:8080/"
        },
        "id": "rZBQ-nx80IuG",
        "outputId": "dd7f64d5-bffb-4222-d706-8890caa8c5a0"
      },
      "outputs": [
        {
          "name": "stdout",
          "output_type": "stream",
          "text": [
            "u + v: tensor([4., 4., 4.])\n",
            "u - v: tensor([2., 4., 6.])\n",
            "2*u: tensor([ 6.,  8., 10.])\n",
            "v/2: tensor([ 0.5000,  0.0000, -0.5000])\n",
            "Dot product: -2.0\n",
            "Cross product: tensor([-4.,  8., -4.])\n",
            "Norm of u: 7.071067810058594\n",
            "Distance between u and v: 7.4833149909973145\n"
          ]
        }
      ],
      "source": [
        "# Import torch\n",
        "import torch\n",
        "\n",
        "# Creating new vectors\n",
        "u = torch.Tensor([3, 4, 5])\n",
        "v = torch.Tensor([1, 0, -1])\n",
        "\n",
        "# Addition\n",
        "print(f'u + v: {u + v}')\n",
        "\n",
        "# Subtraction\n",
        "print(f'u - v: {u - v}')\n",
        "\n",
        "# Doubling\n",
        "print(f'2*u: {2 * u}')\n",
        "\n",
        "# Half of v\n",
        "print(f'v/2: {v / 2}')\n",
        "\n",
        "# Dot product\n",
        "print(f'Dot product: {u.dot(v)}')\n",
        "\n",
        "# Cross product\n",
        "print(f'Cross product: {u.cross(v)}')\n",
        "\n",
        "# Norm\n",
        "print(f'Norm of u: {torch.norm(u)}')\n",
        "\n",
        "# Distance\n",
        "print(f'Distance between u and v: {torch.dist(u, v)}')\n"
      ]
    },
    {
      "cell_type": "markdown",
      "metadata": {
        "id": "zF3CpKti1Sda"
      },
      "source": [
        "### 2.3.2 Practical Examples: Physics, Engineering\n",
        "For a practical understanding and application of vector operations, consider this Physics problem:\n",
        "\n",
        "- A force of 10 units acts on a body in the positive x direction and another force of 10√2 units acts on the body in the negative y direction. Find the resultant of these forces.\n",
        "\n",
        "This is an example of vector addition."
      ]
    },
    {
      "cell_type": "code",
      "execution_count": 61,
      "metadata": {
        "colab": {
          "base_uri": "https://localhost:8080/"
        },
        "id": "XvUrD0p01Muv",
        "outputId": "0604e597-1502-4376-8907-b96d0020785f"
      },
      "outputs": [
        {
          "name": "stdout",
          "output_type": "stream",
          "text": [
            "The resultant of the forces is: tensor([ 10.0000, -14.1421]) and its magnitude is: 17.32050895690918\n"
          ]
        }
      ],
      "source": [
        "# Import torch\n",
        "import torch\n",
        "\n",
        "# Forces are represented as vectors\n",
        "F1 = torch.Tensor([10, 0])\n",
        "F2 = torch.Tensor([0, -10*np.sqrt(2)])\n",
        "\n",
        "# Resultant\n",
        "F = F1 + F2\n",
        "F_norm = torch.norm(F)\n",
        "print(f'The resultant of the forces is: {F} and its magnitude is: {F_norm}')\n"
      ]
    },
    {
      "cell_type": "markdown",
      "metadata": {
        "id": "a6_70ERz12r4"
      },
      "source": [
        "- A person walks 10 units in the positive direction of x-axis (East), then walks 6 units in the negative direction of y-axis (South), and finally walks 2 units in the positive direction of z-axis (Up). Calculate the person's total displacement.\n"
      ]
    },
    {
      "cell_type": "markdown",
      "metadata": {
        "id": "rON8ZWks18T3"
      },
      "source": [
        "This problem is about 3D-Vectors and we can solve it by the addition of vectors.\n"
      ]
    },
    {
      "cell_type": "code",
      "execution_count": 62,
      "metadata": {
        "colab": {
          "base_uri": "https://localhost:8080/"
        },
        "id": "ye-woKyA1axa",
        "outputId": "2a2d44c9-0a5a-4ccb-d706-5d9996e5fee3"
      },
      "outputs": [
        {
          "name": "stdout",
          "output_type": "stream",
          "text": [
            "Displacement Vector: tensor([10., -6.,  2.])\n",
            "Total Displacement Distance: 11.832159996032715\n"
          ]
        }
      ],
      "source": [
        "# Given vectors\n",
        "step_one = torch.tensor([10, 0, 0])  # 10 units in x-axis\n",
        "step_two = torch.tensor([0, -6, 0])  # 6 units in negative y-axis\n",
        "step_three = torch.tensor([0, 0, 2])  # 2 units in z-axis\n",
        "\n",
        "# Total displacement\n",
        "displacement = step_one + step_two + step_three\n",
        "displacement = displacement.float()\n",
        "displacement_magnitude = torch.norm(displacement)\n",
        "\n",
        "print(f\"Displacement Vector: {displacement}\")\n",
        "print(f\"Total Displacement Distance: {displacement_magnitude}\")\n"
      ]
    },
    {
      "cell_type": "markdown",
      "metadata": {
        "id": "oDvzgkAf2XDg"
      },
      "source": [
        "- Create a 3D vector v = 1i + 2j + 3k and find its magnitude (length) and unit vector.\n"
      ]
    },
    {
      "cell_type": "code",
      "execution_count": 63,
      "metadata": {
        "colab": {
          "base_uri": "https://localhost:8080/"
        },
        "id": "lwy1c5KO2Bc_",
        "outputId": "4c518eca-10bc-4ee0-cc6e-34e64f3e029b"
      },
      "outputs": [
        {
          "name": "stdout",
          "output_type": "stream",
          "text": [
            "Length of vector: 3.7416574954986572\n",
            "Unit vector: tensor([0.2673, 0.5345, 0.8018])\n"
          ]
        }
      ],
      "source": [
        "# Given vector\n",
        "v = torch.Tensor([1, 2, 3])\n",
        "\n",
        "# Length of v\n",
        "length = torch.norm(v)\n",
        "print(f\"Length of vector: {length}\")\n",
        "\n",
        "# Unit vector\n",
        "unit_v = v/length\n",
        "print(f\"Unit vector: {unit_v}\")\n"
      ]
    },
    {
      "cell_type": "markdown",
      "metadata": {
        "id": "UwHSgLGs2g98"
      },
      "source": [
        "Compute the angle between two vectors a = (1,2,3) and b = (4,5,6). We can find the cosine of the angle between two vectors by using the formula: cos θ = a.b / ||a|| ||b||\n"
      ]
    },
    {
      "cell_type": "code",
      "execution_count": 64,
      "metadata": {
        "colab": {
          "base_uri": "https://localhost:8080/"
        },
        "id": "pmeMPvuz2dBp",
        "outputId": "8283c124-e2f0-4aac-fc7b-bbbb46a1986b"
      },
      "outputs": [
        {
          "name": "stdout",
          "output_type": "stream",
          "text": [
            "Angle between vectors in degrees: 12.933170318603516\n"
          ]
        }
      ],
      "source": [
        "# Given vectors\n",
        "a = torch.Tensor([1,2,3])\n",
        "b = torch.Tensor([4,5,6])\n",
        "\n",
        "# Determine the magnitudes of a and b\n",
        "magnitude_a = torch.norm(a)\n",
        "magnitude_b = torch.norm(b)\n",
        "\n",
        "# Determine the dot product of a and b\n",
        "dot_ab = torch.dot(a, b)\n",
        "\n",
        "# Compute the angle between a and b\n",
        "cos_theta = dot_ab / (magnitude_a * magnitude_b)\n",
        "theta_rad = torch.acos(cos_theta)\n",
        "theta_deg = theta_rad * (180 / np.pi)\n",
        "\n",
        "# In degrees\n",
        "print(f\"Angle between vectors in degrees: {theta_deg.item()}\")\n"
      ]
    },
    {
      "cell_type": "markdown",
      "metadata": {
        "id": "ghfqWBK46x7j"
      },
      "source": [
        "# Matrices with Pytorch"
      ]
    },
    {
      "cell_type": "markdown",
      "metadata": {
        "id": "KTY8VN2W6_io"
      },
      "source": [
        "## 3.1 Matrix Representation in PyTorch\n",
        "Matrices in PyTorch are represented with 2D Tensors."
      ]
    },
    {
      "cell_type": "markdown",
      "metadata": {
        "id": "Hf_S0vC37R5L"
      },
      "source": [
        "### 3.1.1 Creating a Matrix with Direct Pass of Data"
      ]
    },
    {
      "cell_type": "code",
      "execution_count": 65,
      "metadata": {
        "colab": {
          "base_uri": "https://localhost:8080/"
        },
        "id": "YY8XDP2i7MdL",
        "outputId": "85eaa9a2-576b-4a0c-f2d0-113b52741088"
      },
      "outputs": [
        {
          "name": "stdout",
          "output_type": "stream",
          "text": [
            "Matrix: \n",
            "tensor([[1, 2, 3],\n",
            "        [4, 5, 6],\n",
            "        [7, 8, 9]])\n"
          ]
        }
      ],
      "source": [
        "# Defining a matrix in PyTorch\n",
        "matrix = torch.tensor([[1, 2, 3],[4,5,6],[7,8,9]])\n",
        "print(f\"Matrix: \\n{matrix}\")\n"
      ]
    },
    {
      "cell_type": "markdown",
      "metadata": {
        "id": "YYAMDzyp7fuC"
      },
      "source": [
        "### 3.2.2 Creating a Matrix with Random Numbers\n"
      ]
    },
    {
      "cell_type": "code",
      "execution_count": 66,
      "metadata": {
        "colab": {
          "base_uri": "https://localhost:8080/"
        },
        "id": "CSgdAQFp7cJw",
        "outputId": "3295e107-84f4-47f6-f372-67a2d4ccefe4"
      },
      "outputs": [
        {
          "name": "stdout",
          "output_type": "stream",
          "text": [
            "Random Matrix: \n",
            "tensor([[0.3812, 0.9605, 0.5295],\n",
            "        [0.8179, 0.1674, 0.4214],\n",
            "        [0.1797, 0.5193, 0.0206]])\n"
          ]
        }
      ],
      "source": [
        "# Defining a matrix with random numbers between 0 and 1\n",
        "rand_matrix = torch.rand((3,3))\n",
        "print(f\"Random Matrix: \\n{rand_matrix}\")\n"
      ]
    },
    {
      "cell_type": "markdown",
      "metadata": {
        "id": "ZkKSbmM_7lT5"
      },
      "source": [
        "### 3.3.3 Creating a Matrix with Zeros or Ones\n"
      ]
    },
    {
      "cell_type": "code",
      "execution_count": 67,
      "metadata": {
        "colab": {
          "base_uri": "https://localhost:8080/"
        },
        "id": "sl84EJCr2uNY",
        "outputId": "72b706d9-1a46-4d89-e930-762bb3b97497"
      },
      "outputs": [
        {
          "name": "stdout",
          "output_type": "stream",
          "text": [
            "Zero Matrix: \n",
            "tensor([[0., 0., 0.],\n",
            "        [0., 0., 0.],\n",
            "        [0., 0., 0.]])\n",
            "Ones Matrix: \n",
            "tensor([[1., 1., 1.],\n",
            "        [1., 1., 1.],\n",
            "        [1., 1., 1.]])\n"
          ]
        }
      ],
      "source": [
        "# Defining a matrix filled with zeroes\n",
        "zero_matrix = torch.zeros((3,3))\n",
        "print(f\"Zero Matrix: \\n{zero_matrix}\")\n",
        "\n",
        "# Defining a matrix filled with ones\n",
        "ones_matrix = torch.ones((3,3))\n",
        "print(f\"Ones Matrix: \\n{ones_matrix}\")\n"
      ]
    },
    {
      "cell_type": "markdown",
      "metadata": {
        "id": "ryO99ZN17rl1"
      },
      "source": [
        "To access or modify elements of a matrix, we can use indexing similar to Python list indexing but with a comma separating row and column indices:"
      ]
    },
    {
      "cell_type": "code",
      "execution_count": 68,
      "metadata": {
        "colab": {
          "base_uri": "https://localhost:8080/"
        },
        "id": "q5BfbMpk7o_R",
        "outputId": "0924abc5-6c33-4468-ef33-b5095cdba38c"
      },
      "outputs": [
        {
          "name": "stdout",
          "output_type": "stream",
          "text": [
            "Element: 1\n",
            "Modified Matrix: \n",
            "tensor([[1, 2, 3],\n",
            "        [4, 5, 6],\n",
            "        [7, 8, 0]])\n"
          ]
        }
      ],
      "source": [
        "# Accessing an element from the matrix (First row, first column)\n",
        "print(f\"Element: {matrix[0,0]}\")\n",
        "\n",
        "# Modifying an element of the matrix (Last row, last column)\n",
        "matrix[-1,-1] = 0\n",
        "print(f\"Modified Matrix: \\n{matrix}\")\n"
      ]
    },
    {
      "cell_type": "markdown",
      "metadata": {},
      "source": [
        "### 3.3.4 Matrix Visualization"
      ]
    },
    {
      "cell_type": "code",
      "execution_count": 99,
      "metadata": {},
      "outputs": [
        {
          "data": {
            "image/png": "[encoded data removed]",
            "text/plain": [
              "<Figure size 800x600 with 2 Axes>"
            ]
          },
          "metadata": {},
          "output_type": "display_data"
        }
      ],
      "source": [
        "import torch\n",
        "import matplotlib.pyplot as plt\n",
        "import seaborn as sns\n",
        "\n",
        "# Define a matrix\n",
        "matrix = torch.tensor([[1, 2, 3], [4, 5, 6], [7, 8, 9]], dtype=torch.float)\n",
        "\n",
        "# Create a heatmap to visualize the matrix\n",
        "plt.figure(figsize=(8, 6))\n",
        "sns.heatmap(matrix, annot=True, cmap='viridis', square=True)\n",
        "\n",
        "# Adding titles and labels\n",
        "plt.title('Matrix Visualization')\n",
        "plt.xlabel('Column')\n",
        "plt.ylabel('Row')\n",
        "\n",
        "# Show the plot\n",
        "plt.show()\n"
      ]
    },
    {
      "cell_type": "markdown",
      "metadata": {
        "id": "Iz095oau78pB"
      },
      "source": [
        "## 3.2 Matrix Operations"
      ]
    },
    {
      "cell_type": "markdown",
      "metadata": {
        "id": "bRyF01ze8CZq"
      },
      "source": [
        "Just like vectors, matrices also have several operations such as addition, subtraction, and multiplication (both scalar and matrix multiplication).\n"
      ]
    },
    {
      "cell_type": "markdown",
      "metadata": {
        "id": "NS6F_W288Exg"
      },
      "source": [
        "### 3.2.1 Addition, Subtraction, Multiplication\n",
        "The mechanics of matrix addition, subtraction and multiplication are the same as those of vector operations. They are done element-wise, except for matrix multiplication, which follows a specific rule.\n",
        "\n",
        "Let's explore these operations using PyTorch:\n"
      ]
    },
    {
      "cell_type": "code",
      "execution_count": 69,
      "metadata": {
        "colab": {
          "base_uri": "https://localhost:8080/"
        },
        "id": "e4EIRK5r7unC",
        "outputId": "daee5cff-b745-43a5-d9e5-adf6a5f5edbf"
      },
      "outputs": [
        {
          "name": "stdout",
          "output_type": "stream",
          "text": [
            "Addition of two matrices: \n",
            "tensor([[ 6.,  8.],\n",
            "        [10., 12.]])\n",
            "\n",
            "Subtraction of two matrices: \n",
            "tensor([[-4., -4.],\n",
            "        [-4., -4.]])\n",
            "\n",
            "Scalar multiplication of matrix: \n",
            "tensor([[2., 4.],\n",
            "        [6., 8.]])\n",
            "\n",
            "Multiplication of two matrices: \n",
            "tensor([[19., 22.],\n",
            "        [43., 50.]])\n"
          ]
        }
      ],
      "source": [
        "# Importing PyTorch\n",
        "import torch\n",
        "\n",
        "# Creating matrices\n",
        "X = torch.tensor([[1,2], [3,4]], dtype=torch.float32)\n",
        "Y = torch.tensor([[5,6], [7,8]], dtype=torch.float32)\n",
        "\n",
        "# Addition\n",
        "print(\"Addition of two matrices: \")\n",
        "print(torch.add(X, Y))\n",
        "\n",
        "# Subtraction\n",
        "print(\"\\nSubtraction of two matrices: \")\n",
        "print(torch.sub(X, Y))\n",
        "\n",
        "# Scalar Multiplication\n",
        "print(\"\\nScalar multiplication of matrix: \")\n",
        "print(2 * X)\n",
        "\n",
        "# Matrix Multiplication\n",
        "print(\"\\nMultiplication of two matrices: \")\n",
        "print(torch.mm(X, Y))\n"
      ]
    },
    {
      "cell_type": "markdown",
      "metadata": {
        "id": "2xDe1oWF8bDI"
      },
      "source": [
        "In the code above, we've defined two matrices X and Y. We perform addition, subtraction and scalar multiplication in the usual way similar to vector operations. However, while performing matrix multiplication, we use the torch.mm() function. This function performs matrix product of two tensors. The behavior depends on the dimensionality of the tensors. For 2-D tensors, it behaves same as torch.matmul()"
      ]
    },
    {
      "cell_type": "markdown",
      "metadata": {
        "id": "tWiOfp148mMy"
      },
      "source": [
        "### 3.2.2 Transpose, Determinant, Inverse\n",
        "Beyond addition and multiplication, many other operations are often performed on matrices including Transposition, Computing the Determinant, and Matrix Inversion.\n"
      ]
    },
    {
      "cell_type": "markdown",
      "metadata": {
        "id": "sdpa6C2c8svd"
      },
      "source": [
        "- Transpose: The transpose of a matrix is obtained by swapping its rows with columns.\n",
        "\n",
        "\n"
      ]
    },
    {
      "cell_type": "code",
      "execution_count": 70,
      "metadata": {
        "colab": {
          "base_uri": "https://localhost:8080/"
        },
        "id": "ScAG5hPr8MpB",
        "outputId": "0d7b2235-1114-4916-d36f-461753edda2e"
      },
      "outputs": [
        {
          "name": "stdout",
          "output_type": "stream",
          "text": [
            "Transpose of A: \n",
            "tensor([[1, 4, 7],\n",
            "        [2, 5, 8],\n",
            "        [3, 6, 9]])\n"
          ]
        }
      ],
      "source": [
        "# Defining the matrix\n",
        "A = torch.tensor([[1, 2, 3], [4, 5, 6], [7, 8, 9]])\n",
        "\n",
        "# Computing the transpose\n",
        "A_t = A.t()\n",
        "print(f\"Transpose of A: \\n{A_t}\")\n"
      ]
    },
    {
      "cell_type": "markdown",
      "metadata": {
        "id": "VI2ypNyh84K8"
      },
      "source": [
        "- Determinant: In PyTorch, the determinant of a square matrix can be computed using the torch.linalg.det() function. However, this only works for 2D matrices.\n",
        "\n"
      ]
    },
    {
      "cell_type": "code",
      "execution_count": 71,
      "metadata": {
        "colab": {
          "base_uri": "https://localhost:8080/"
        },
        "id": "UPYEGlmo8z-_",
        "outputId": "9143c224-a5b0-4b56-8910-65d9693813f0"
      },
      "outputs": [
        {
          "name": "stdout",
          "output_type": "stream",
          "text": [
            "Determinant of A: 0.0\n"
          ]
        }
      ],
      "source": [
        "# Computing the determinant\n",
        "A = A.float()\n",
        "A_det = torch.linalg.det(A)\n",
        "print(f\"Determinant of A: {A_det}\")"
      ]
    },
    {
      "cell_type": "markdown",
      "metadata": {
        "id": "ddhn1Pc69JY0"
      },
      "source": [
        "- Inverse: The inverse of a square matrix A is a second matrix A_inv such that multiplying A by A_inv results in the identity matrix. We can calculate the inverse using torch.linalg.inv().\n"
      ]
    },
    {
      "cell_type": "code",
      "execution_count": 72,
      "metadata": {
        "colab": {
          "base_uri": "https://localhost:8080/",
          "height": 198
        },
        "id": "zfZtFqsz9BDW",
        "outputId": "448f5393-dd97-46fb-f214-7154b024820d"
      },
      "outputs": [
        {
          "ename": "_LinAlgError",
          "evalue": "linalg.inv: The diagonal element 3 is zero, the inversion could not be completed because the input matrix is singular.",
          "output_type": "error",
          "traceback": [
            "\u001b[0;31m---------------------------------------------------------------------------\u001b[0m",
            "\u001b[0;31m_LinAlgError\u001b[0m                              Traceback (most recent call last)",
            "\u001b[1;32m/Users/vedansh/personal_proj/pytorch-linear-algebra/Linear_Algebra_Using_PyTorch_1.ipynb Cell 98\u001b[0m line \u001b[0;36m2\n\u001b[1;32m      <a href='vscode-notebook-cell:/Users/vedansh/personal_proj/pytorch-linear-algebra/Linear_Algebra_Using_PyTorch_1.ipynb#Y165sZmlsZQ%3D%3D?line=0'>1</a>\u001b[0m \u001b[39m# Computing the inverse\u001b[39;00m\n\u001b[0;32m----> <a href='vscode-notebook-cell:/Users/vedansh/personal_proj/pytorch-linear-algebra/Linear_Algebra_Using_PyTorch_1.ipynb#Y165sZmlsZQ%3D%3D?line=1'>2</a>\u001b[0m A_inv \u001b[39m=\u001b[39m torch\u001b[39m.\u001b[39;49mlinalg\u001b[39m.\u001b[39;49minv(A)\n\u001b[1;32m      <a href='vscode-notebook-cell:/Users/vedansh/personal_proj/pytorch-linear-algebra/Linear_Algebra_Using_PyTorch_1.ipynb#Y165sZmlsZQ%3D%3D?line=2'>3</a>\u001b[0m \u001b[39mprint\u001b[39m(\u001b[39mf\u001b[39m\u001b[39m\"\u001b[39m\u001b[39mInverse of A: \u001b[39m\u001b[39m\\n\u001b[39;00m\u001b[39m{\u001b[39;00mA_inv\u001b[39m}\u001b[39;00m\u001b[39m\"\u001b[39m)\n",
            "\u001b[0;31m_LinAlgError\u001b[0m: linalg.inv: The diagonal element 3 is zero, the inversion could not be completed because the input matrix is singular."
          ]
        }
      ],
      "source": [
        "# Computing the inverse\n",
        "A_inv = torch.linalg.inv(A)\n",
        "print(f\"Inverse of A: \\n{A_inv}\")\n"
      ]
    },
    {
      "cell_type": "markdown",
      "metadata": {
        "id": "zPPocFFu9gR7"
      },
      "source": [
        "Learn from the above error: The diagonal element 3 is zero, {the inversion could not be completed because the input matrix is singular}."
      ]
    },
    {
      "cell_type": "code",
      "execution_count": 73,
      "metadata": {
        "colab": {
          "base_uri": "https://localhost:8080/"
        },
        "id": "jjrsqOmp9Qqb",
        "outputId": "6e3c1e30-34d3-425a-c6ad-4f53cc8e8389"
      },
      "outputs": [
        {
          "name": "stdout",
          "output_type": "stream",
          "text": [
            "Inverse of A: \n",
            "tensor([[-0.6667, -1.3333,  1.0000],\n",
            "        [-0.6667,  3.6667, -2.0000],\n",
            "        [ 1.0000, -2.0000,  1.0000]])\n"
          ]
        }
      ],
      "source": [
        "A = torch.tensor([[1, 2, 3], [4, 5, 6], [7, 8, 10]])\n",
        "# Computing the inverse\n",
        "A = A.float()\n",
        "A_inv = torch.linalg.inv(A)\n",
        "print(f\"Inverse of A: \\n{A_inv}\")"
      ]
    },
    {
      "cell_type": "markdown",
      "metadata": {
        "id": "a5fbgGre-cFL"
      },
      "source": [
        "It should be noted that not all matrices have an inverse, and such matrices are called degenerate or singular. This occurs when the determinant of the matrix is zero. For non-square matrices, a pseudo-inverse can be calculated using torch.linalg.pinv().\n"
      ]
    },
    {
      "cell_type": "code",
      "execution_count": 74,
      "metadata": {
        "colab": {
          "base_uri": "https://localhost:8080/"
        },
        "id": "yXeFxTf39ZAS",
        "outputId": "63e8d344-3d3c-4feb-e65d-3f305a9748a5"
      },
      "outputs": [
        {
          "name": "stdout",
          "output_type": "stream",
          "text": [
            "Pseudo-inverse of B: \n",
            "tensor([[-0.9444,  0.4444],\n",
            "        [-0.1111,  0.1111],\n",
            "        [ 0.7222, -0.2222]])\n"
          ]
        }
      ],
      "source": [
        "# Non-square matrix\n",
        "B = torch.tensor([[1, 2, 3], [4, 5, 6]])\n",
        "\n",
        "B = B.float()\n",
        "\n",
        "# Pseudo-inverse\n",
        "B_pinv = torch.linalg.pinv(B)\n",
        "print(f\"Pseudo-inverse of B: \\n{B_pinv}\")\n"
      ]
    },
    {
      "cell_type": "markdown",
      "metadata": {
        "id": "AJyGrw9H-wOU"
      },
      "source": [
        "### 3.2.3 Special Matrices: Diagonal, Identity\n",
        "There are some types of matrices with some special properties or structure, making them useful for certain types of problems.\n"
      ]
    },
    {
      "cell_type": "markdown",
      "metadata": {
        "id": "awcbio3j-1hH"
      },
      "source": [
        "- Diagonal Matrix: A diagonal matrix is a type of square matrix in which the entries outside the main diagonal are all zero. PyTorch's diag() function allows us to extract the diagonal of an existing matrix or create a diagonal matrix from a given 1-D tensor."
      ]
    },
    {
      "cell_type": "code",
      "execution_count": 75,
      "metadata": {
        "colab": {
          "base_uri": "https://localhost:8080/"
        },
        "id": "P4iV0-sL-gvq",
        "outputId": "5949625b-814b-40c5-91ec-9149a56f2450"
      },
      "outputs": [
        {
          "name": "stdout",
          "output_type": "stream",
          "text": [
            "Diagonal elements of a: tensor([1, 5, 9])\n",
            "\n",
            "Diagonal Matrix:\n",
            "tensor([[1, 0, 0],\n",
            "        [0, 2, 0],\n",
            "        [0, 0, 3]])\n"
          ]
        }
      ],
      "source": [
        "# Extracting diagonal elements\n",
        "a = torch.tensor([[1, 2, 3], [4, 5, 6], [7, 8, 9]])\n",
        "diag_a = torch.diag(a)\n",
        "print(f'Diagonal elements of a: {diag_a}')\n",
        "\n",
        "# Creating a diagonal matrix\n",
        "b = torch.tensor([1, 2, 3])\n",
        "diag_b = torch.diag(b)\n",
        "print(f'\\nDiagonal Matrix:\\n{diag_b}')\n"
      ]
    },
    {
      "cell_type": "markdown",
      "metadata": {
        "id": "ZhwrW_GN_Gsz"
      },
      "source": [
        "- Identity Matrix: An identity matrix or unit matrix is a square matrix in which all the elements of the principal (main) diagonal are ones and all other elements are zeros. PyTorch's eye() function generates an identity matrix.\n",
        "\n"
      ]
    },
    {
      "cell_type": "code",
      "execution_count": 76,
      "metadata": {
        "colab": {
          "base_uri": "https://localhost:8080/"
        },
        "id": "sFTXcvkO_DWF",
        "outputId": "27e36425-c7a5-4dd8-a889-50d592b60b32"
      },
      "outputs": [
        {
          "name": "stdout",
          "output_type": "stream",
          "text": [
            "3x3 Identity Matrix:\n",
            "tensor([[1., 0., 0.],\n",
            "        [0., 1., 0.],\n",
            "        [0., 0., 1.]])\n"
          ]
        }
      ],
      "source": [
        "# Generating an identity matrix of size 3x3\n",
        "identity_3x3 = torch.eye(3)\n",
        "print(f'3x3 Identity Matrix:\\n{identity_3x3}')"
      ]
    },
    {
      "cell_type": "markdown",
      "metadata": {},
      "source": [
        "### 3.2.4. Matrix Operations Visualizations"
      ]
    },
    {
      "cell_type": "code",
      "execution_count": 100,
      "metadata": {},
      "outputs": [
        {
          "data": {
            "image/png": "[encoded data removed]",
            "text/plain": [
              "<Figure size 1500x1500 with 16 Axes>"
            ]
          },
          "metadata": {},
          "output_type": "display_data"
        }
      ],
      "source": [
        "import torch\n",
        "import matplotlib.pyplot as plt\n",
        "import seaborn as sns\n",
        "\n",
        "# 3.2.1. Matrix Operations: Addition, Subtraction, Multiplication\n",
        "matrix1 = torch.tensor([[1, 2], [3, 4]], dtype=torch.float)\n",
        "matrix2 = torch.tensor([[5, 6], [7, 8]], dtype=torch.float)\n",
        "\n",
        "addition = matrix1 + matrix2\n",
        "subtraction = matrix1 - matrix2\n",
        "multiplication = torch.mm(matrix1, matrix2)\n",
        "\n",
        "# 3.2.2. Transpose, Determinant, Inverse\n",
        "transpose = matrix1.T\n",
        "determinant = torch.det(matrix1).item()\n",
        "inverse = torch.inverse(matrix1)\n",
        "\n",
        "# 3.2.3. Special Matrices: Diagonal, Identity\n",
        "diagonal = torch.diag(torch.tensor([1, 2]))\n",
        "identity = torch.eye(2)\n",
        "\n",
        "# Visualization\n",
        "fig, axes = plt.subplots(3, 3, figsize=(15, 15))\n",
        "\n",
        "# Matrix Operations\n",
        "sns.heatmap(addition, annot=True, cmap='viridis', square=True, ax=axes[0, 0])\n",
        "axes[0, 0].set_title('Addition')\n",
        "\n",
        "sns.heatmap(subtraction, annot=True, cmap='viridis', square=True, ax=axes[0, 1])\n",
        "axes[0, 1].set_title('Subtraction')\n",
        "\n",
        "sns.heatmap(multiplication, annot=True, cmap='viridis', square=True, ax=axes[0, 2])\n",
        "axes[0, 2].set_title('Multiplication')\n",
        "\n",
        "# Transpose, Determinant, Inverse\n",
        "sns.heatmap(transpose, annot=True, cmap='viridis', square=True, ax=axes[1, 0])\n",
        "axes[1, 0].set_title('Transpose')\n",
        "\n",
        "axes[1, 1].text(0.5, 0.5, f'Det: {determinant:.2f}', ha='center', va='center')\n",
        "axes[1, 1].set_title('Determinant')\n",
        "axes[1, 1].axis('off')\n",
        "\n",
        "sns.heatmap(inverse, annot=True, cmap='viridis', square=True, ax=axes[1, 2])\n",
        "axes[1, 2].set_title('Inverse')\n",
        "\n",
        "# Special Matrices: Diagonal, Identity\n",
        "sns.heatmap(diagonal, annot=True, cmap='viridis', square=True, ax=axes[2, 0])\n",
        "axes[2, 0].set_title('Diagonal Matrix')\n",
        "\n",
        "sns.heatmap(identity, annot=True, cmap='viridis', square=True, ax=axes[2, 1])\n",
        "axes[2, 1].set_title('Identity Matrix')\n",
        "\n",
        "axes[2, 2].axis('off')  # Empty subplot\n",
        "\n",
        "plt.tight_layout()\n",
        "plt.show()\n",
        "\n"
      ]
    },
    {
      "cell_type": "markdown",
      "metadata": {
        "id": "Y-0pAvWS_mJc"
      },
      "source": [
        "## 3.3. PyTorch Matrix Operations"
      ]
    },
    {
      "cell_type": "markdown",
      "metadata": {
        "id": "q5a2AW34AFm2"
      },
      "source": [
        "### 3.3.1 Implementing Matrix Algebra\n"
      ]
    },
    {
      "cell_type": "markdown",
      "metadata": {
        "id": "vumLOQKGAuNq"
      },
      "source": [
        "Matrix algebra is central to deep learning and is used in almost every layer of a neural network, in performing operations on the input data and weights, calculating the result, and its derivatives.\n",
        "\n",
        "Let's take a practical example of implementing matrix algebra to understand it better:\n",
        "\n",
        "\n",
        "For example, we can use matrices to represent and solve system of linear equations. Consider the following system of linear equations:\n",
        "$$3x + 4y = 1$$\n",
        "$$2x + 1y = 2$$\n"
      ]
    },
    {
      "cell_type": "markdown",
      "metadata": {
        "id": "sIRmmTwUB7SG"
      },
      "source": [
        "We can represent the coefficients in a matrix 'A', the variables in a vector 'v' and the results in a vector 'b'.\n",
        "\n",
        "$$A.v = b$$"
      ]
    },
    {
      "cell_type": "markdown",
      "metadata": {
        "id": "yo8d9DBwCBQr"
      },
      "source": [
        "Here is how we can solve the system of equations:\n"
      ]
    },
    {
      "cell_type": "code",
      "execution_count": 77,
      "metadata": {
        "colab": {
          "base_uri": "https://localhost:8080/"
        },
        "id": "Qyyz9aZAA22u",
        "outputId": "a1825256-9365-463d-b331-cf3f476c752d"
      },
      "outputs": [
        {
          "name": "stdout",
          "output_type": "stream",
          "text": [
            "tensor([ 1.4000, -0.8000])\n"
          ]
        }
      ],
      "source": [
        "# Importing torch\n",
        "import torch\n",
        "\n",
        "# Defining the matrix A using torch\n",
        "A = torch.tensor([[3.0, 4.0], [2.0, 1.0]])\n",
        "\n",
        "# Defining the matrix B\n",
        "b = torch.tensor([1.0, 2.0])\n",
        "\n",
        "# Calculating v\n",
        "v = torch.linalg.solve(A, b)\n",
        "print(v)\n"
      ]
    },
    {
      "cell_type": "markdown",
      "metadata": {
        "id": "KwOrjFjdCJOt"
      },
      "source": [
        "Running the code, we will get the values of variables x and y which solve the system of equations."
      ]
    },
    {
      "cell_type": "markdown",
      "metadata": {
        "id": "VR8lxxPICdk8"
      },
      "source": [
        "# Systems of Linear Equations in PyTorch"
      ]
    },
    {
      "cell_type": "markdown",
      "metadata": {
        "id": "uOvDnNeJDRUX"
      },
      "source": [
        "## 4.1. Formulating Linear Systems\n",
        "Formulating a system of linear equations is the process of translating a written problem into a mathematical expression that can be solved to find the answer. In PyTorch, systems of linear equations are commonly represented in matrix format because of the computational benefits when it comes to solving the system.\n",
        "\n",
        "Let's consider a simple system of two linear equations:\n",
        "\n",
        "$$3x + 2y = 15$$\n",
        "$$4x + 3y = 18$$\n",
        "\n",
        "These equations can be represented in matrix form as:\n",
        "\n",
        "$$Ax = b$$\n",
        "\n",
        "where:\n",
        "\n",
        "* $A$: coefficient matrix\n",
        "\n",
        "* $x$: variable matrix\n",
        "\n",
        "* $b$: constant matrix\n",
        "\n"
      ]
    },
    {
      "cell_type": "markdown",
      "metadata": {
        "id": "ynuFXmpLD-Ub"
      },
      "source": [
        "Written in this form, the system becomes:\n",
        "\n",
        "$$[ 3, 2] * [ x ] = [ 15 ]$$\n",
        "$$[ 4, 3] [ y ] [ 18 ]$$"
      ]
    },
    {
      "cell_type": "markdown",
      "metadata": {
        "id": "ELyA1L7_EHB9"
      },
      "source": [
        "The statement above represents exactly the same system of equations as before, but in a compact and convenient format.\n",
        "\n",
        "Here is how we can define the matrices in PyTorch:\n"
      ]
    },
    {
      "cell_type": "code",
      "execution_count": 78,
      "metadata": {
        "id": "qOvH3BiwDKzP"
      },
      "outputs": [],
      "source": [
        "# Importing torch\n",
        "import torch\n",
        "\n",
        "# Coefficient Matrix A\n",
        "A = torch.Tensor([[3, 2], [4, 3]])\n",
        "\n",
        "# Constant Matrix b\n",
        "b = torch.Tensor([15, 18])\n",
        "\n",
        "# Variable Matrix x - Initially Unknown\n",
        "x = torch.Tensor([0, 0])\n"
      ]
    },
    {
      "cell_type": "markdown",
      "metadata": {
        "id": "Rmd4LF4jEPvz"
      },
      "source": [
        "Note that we took the variables x and y to be initially 0. In fact, the actual values of x and y will be found by solving the system of equations."
      ]
    },
    {
      "cell_type": "markdown",
      "metadata": {
        "id": "GDDyneZjEng6"
      },
      "source": [
        "## 4.2. Solving Linear Systems"
      ]
    },
    {
      "cell_type": "markdown",
      "metadata": {
        "id": "glffJZDwEqV0"
      },
      "source": [
        "### 4.2.1. Direct Methods: Gaussian Elimination"
      ]
    },
    {
      "cell_type": "markdown",
      "metadata": {
        "id": "AQoELL6tEupF"
      },
      "source": [
        "Gaussian elimination, also known as row reduction, is an algorithm in linear algebra for solving a system of linear equations. This method can be widely used for systems of any size.\n"
      ]
    },
    {
      "cell_type": "markdown",
      "metadata": {
        "id": "FL_misT1FGuX"
      },
      "source": [
        "Let's take the system of equations from the previous section:\n",
        "\n",
        "$$3x + 2y = 15$$\n",
        "$$4x + 3y = 18$$\n"
      ]
    },
    {
      "cell_type": "markdown",
      "metadata": {
        "id": "M4Ni5ND_FkRj"
      },
      "source": [
        "To solve a system of linear equations using Gaussian elimination in PyTorch, we first need to represent the system in matrix form.\n",
        "\n",
        "We can represent the above equation as $AX = B$, where\n",
        "\n",
        "$$A = \\begin{pmatrix} 3 & 2 \\\\ 4 & 3 \\end{pmatrix}, \\quad X = \\begin{pmatrix} x \\\\ y \\end{pmatrix}, \\quad B = \\begin{pmatrix} 15 \\\\ 18 \\end{pmatrix} $$\n",
        "\n",
        "We can then use PyTorch to solve for $X$.\n"
      ]
    },
    {
      "cell_type": "code",
      "execution_count": 79,
      "metadata": {
        "colab": {
          "base_uri": "https://localhost:8080/"
        },
        "id": "VGzPDAtNFj9B",
        "outputId": "fdec59fe-0a30-41f2-eb45-5ba03a756c6c"
      },
      "outputs": [
        {
          "name": "stdout",
          "output_type": "stream",
          "text": [
            "tensor([[ 9.0000],\n",
            "        [-6.0000]])\n"
          ]
        }
      ],
      "source": [
        "import torch\n",
        "\n",
        "# Define the coefficient matrix A and the constant matrix B\n",
        "A = torch.tensor([[3., 2.], [4., 3.]], dtype=torch.float)\n",
        "B = torch.tensor([[15.], [18.]], dtype=torch.float)\n",
        "\n",
        "# Solve for X using the updated function\n",
        "X = torch.linalg.solve(A, B)\n",
        "\n",
        "print(X)"
      ]
    },
    {
      "cell_type": "markdown",
      "metadata": {
        "id": "NzH5wErSHNN2"
      },
      "source": [
        "### 4.2.2. Iterative Methods: Jacobi, Gauss-Seidel"
      ]
    },
    {
      "cell_type": "markdown",
      "metadata": {
        "id": "quR4uM_ZHRbE"
      },
      "source": [
        "\n",
        "1. **Jacobi Method**: In this method, each diagonal element is solved for, and an approximate value is plugged in. The formula for the \\(k+1\\)-th iteration is given by:\n",
        "\n",
        "   $$ x^{(k+1)}_i = \\frac{1}{a_{ii}} \\left( b_i - \\sum_{j \\neq i} a_{ij} x^{(k)}_j \\right) $$\n",
        "\n",
        "   for $i = 1, 2, \\ldots, n$.\n"
      ]
    },
    {
      "cell_type": "code",
      "execution_count": 80,
      "metadata": {
        "colab": {
          "base_uri": "https://localhost:8080/"
        },
        "id": "matWJmQBHu2H",
        "outputId": "6e56ec23-3633-43d0-b2e0-732555d8c15d"
      },
      "outputs": [
        {
          "name": "stdout",
          "output_type": "stream",
          "text": [
            "Solution using Jacobi Method: tensor([ 8.9751, -5.9834])\n"
          ]
        }
      ],
      "source": [
        "### Jacobi Method\n",
        "\n",
        "import torch\n",
        "\n",
        "# Coefficients matrix and constants vector\n",
        "A = torch.tensor([[3., 2.], [4., 3.]], dtype=torch.float)\n",
        "b = torch.tensor([15., 18.], dtype=torch.float)\n",
        "\n",
        "# Initial guess\n",
        "x = torch.zeros_like(b)\n",
        "\n",
        "# Number of iterations\n",
        "n_iterations = 100\n",
        "\n",
        "# Jacobi Iteration\n",
        "for _ in range(n_iterations):\n",
        "    x_new = torch.zeros_like(x)\n",
        "    for i in range(len(b)):\n",
        "        sum = torch.dot(A[i], x) - A[i][i] * x[i]\n",
        "        x_new[i] = (b[i] - sum) / A[i][i]\n",
        "    x = x_new\n",
        "\n",
        "print(\"Solution using Jacobi Method:\", x)"
      ]
    },
    {
      "cell_type": "markdown",
      "metadata": {
        "id": "h6KSf67jHjxN"
      },
      "source": [
        "2. **Gauss-Seidel Method**: This method is similar to the Jacobi method, but it uses the latest values as soon as they are known. The formula for the \\(k+1\\)-th iteration is given by:\n",
        "\n",
        "   $$ x^{(k+1)}_i = \\frac{1}{a_{ii}} \\left( b_i - \\sum_{j = 1}^{i-1} a_{ij} x^{(k+1)}_j - \\sum_{j = i+1}^{n} a_{ij} x^{(k)}_j \\right) $$"
      ]
    },
    {
      "cell_type": "code",
      "execution_count": 81,
      "metadata": {
        "colab": {
          "base_uri": "https://localhost:8080/"
        },
        "id": "ZMxfcGdiDPk9",
        "outputId": "0a018505-8851-4640-8349-ddfcba0fe815"
      },
      "outputs": [
        {
          "name": "stdout",
          "output_type": "stream",
          "text": [
            "Solution using Gauss-Seidel Method: tensor([ 9.0000, -6.0000])\n"
          ]
        }
      ],
      "source": [
        "### Gauss-Seidel Method\n",
        "\n",
        "import torch\n",
        "\n",
        "# Coefficients matrix and constants vector\n",
        "A = torch.tensor([[3., 2.], [4., 3.]], dtype=torch.float)\n",
        "b = torch.tensor([15., 18.], dtype=torch.float)\n",
        "\n",
        "# Initial guess\n",
        "x = torch.zeros_like(b)\n",
        "\n",
        "# Number of iterations\n",
        "n_iterations = 100\n",
        "\n",
        "# Gauss-Seidel Iteration\n",
        "for _ in range(n_iterations):\n",
        "    for i in range(len(b)):\n",
        "        sum = torch.dot(A[i], x) - A[i][i] * x[i]\n",
        "        x[i] = (b[i] - sum) / A[i][i]\n",
        "\n",
        "print(\"Solution using Gauss-Seidel Method:\", x)"
      ]
    },
    {
      "cell_type": "markdown",
      "metadata": {
        "id": "45ajuDt8H_5D"
      },
      "source": [
        "These methods converge to the solution over iterations. The number of iterations (`n_iterations`) can be adjusted for more accurate results. However, these methods may not always converge, especially if the matrix doesn't satisfy certain conditions (like being diagonally dominant)."
      ]
    },
    {
      "cell_type": "markdown",
      "metadata": {
        "id": "CTf__z-FIx_S"
      },
      "source": [
        "### 4.2.3 Circuit Analysis"
      ]
    },
    {
      "cell_type": "markdown",
      "metadata": {
        "id": "uQPL33I7I4Tg"
      },
      "source": [
        "Circuit analysis is a powerful example of how systems of linear equations can be utilized practically. Kirchoff's laws often result in a system of linear equations which can be solved to analyze the circuit.\n",
        "\n",
        "Imagine we have a simple circuit with three resistors and two power supplies. If we write Kirchoff's laws for it, we can represent it with this system of equations:\n",
        "\n",
        "$$I1 - I2 - I3 = 0$$\n",
        "$$3*I1 + 4*I2 = 10  \\text{ (Voltage from power supply V1)}$$\n",
        "$$4*I2 + 2*I3 = 5   \\text{ (Voltage from power supply V2)}$$\n"
      ]
    },
    {
      "cell_type": "markdown",
      "metadata": {
        "id": "yfHPmLuUJSCS"
      },
      "source": [
        "This system represents currents $I1$, $I2$, and $I3$ in $mA$. Resistors $R1$, $R2$, and $R3$ have resistances 3 Ohms, 4 Ohms, and 2 Ohms respectively. The power supply $V1$ gives 10 Volts and power supply $V2$ gives 5 Volts.\n"
      ]
    },
    {
      "cell_type": "markdown",
      "metadata": {
        "id": "3PTkDMjeJhpP"
      },
      "source": [
        "Let's use PyTorch to solve this system:\n"
      ]
    },
    {
      "cell_type": "code",
      "execution_count": 82,
      "metadata": {
        "colab": {
          "base_uri": "https://localhost:8080/"
        },
        "id": "fKg5sKxXJch1",
        "outputId": "5a4a5437-b60a-41a9-8b08-6454d5707aa5"
      },
      "outputs": [
        {
          "name": "stdout",
          "output_type": "stream",
          "text": [
            "I1 = -0.0000 mA\n",
            "I2 = 2.5000 mA\n",
            "I3 = -2.5000 mA\n"
          ]
        }
      ],
      "source": [
        "import torch\n",
        "\n",
        "# Matrix A representation of the coefficients\n",
        "A = torch.tensor([[1, -1, -1],\n",
        "                  [3, 4, 0],\n",
        "                  [0, 4, 2]], dtype=torch.float32)\n",
        "\n",
        "# Matrix b representation of the constants\n",
        "b = torch.tensor([0, 10, 5], dtype=torch.float32)\n",
        "\n",
        "# Use torch.linalg.solve() to solve the system\n",
        "currents = torch.linalg.solve(A, b)\n",
        "\n",
        "# Print results\n",
        "print(f\"I1 = {currents[0]:.4f} mA\")\n",
        "print(f\"I2 = {currents[1]:.4f} mA\")\n",
        "print(f\"I3 = {currents[2]:.4f} mA\")\n"
      ]
    },
    {
      "cell_type": "markdown",
      "metadata": {
        "id": "Nf6tRCAnJxgk"
      },
      "source": [
        "This code calculates the currents in the circuit. We model the circuit's system of linear equations using tensors, and then use 'torch.linalg.solve()' to find the currents. The results let us know how the current in the circuit is distributed.\n"
      ]
    },
    {
      "cell_type": "markdown",
      "metadata": {
        "id": "X_78XMtrKIfc"
      },
      "source": [
        "# Eigenvalues and Eigenvectors in PyTorch"
      ]
    },
    {
      "cell_type": "markdown",
      "metadata": {
        "id": "f5lDGe9cKLRM"
      },
      "source": [
        "## 5.1 Theory of Eigenvalues and Eigenvectors"
      ]
    },
    {
      "cell_type": "markdown",
      "metadata": {
        "id": "nGFri2i1KoTD"
      },
      "source": [
        "\n",
        "Eigenvalues and Eigenvectors are fundamental concepts in linear algebra with numerous practical applications like in dimensional reduction, facial recognition, and eigenfaces.\n",
        "\n",
        "**Eigenvectors:**\n",
        "\n",
        "Given a square matrix $A$ and a non-zero vector $v$, if the multiplication of $A$ and $v$ equals some scalar $\\lambda$ (lambda) times the same vector $v$, then $v$ is an eigenvector of matrix $A$ and $\\lambda$ is the corresponding eigenvalue. This can be symbolically represented as:\n",
        "\n",
        "$$ Av = \\lambda v $$\n",
        "\n",
        "**Eigenvalues:**\n",
        "\n",
        "They are scalars associated with an eigenvector which provide information about the properties of the matrix, such as distortion.\n",
        "\n",
        "Eigenvalues and eigenvectors always come in pairs and there can be multiple pairs for a single matrix. Also, it's important to note that not all matrices have eigenvalues or eigenvectors.\n",
        "\n",
        "**Why are they important?**\n",
        "\n",
        "Eigenvectors and eigenvalues have their importance in reducing dimensionality in data, thereby easing the load on computational resources. Examples of this usage are PCA (Principal Component Analysis) and SVD (Singular Value Decomposition).\n",
        "\n",
        "In simple terms, the eigenvector represents a direction in space while the corresponding eigenvalue represents how much variance there is in the data in that particular direction, hence giving us the most relevant features.\n",
        "\n",
        "We will now see the implementation of these critical linear algebra concepts in PyTorch. Also, going forward, as we delve into more advanced topics like PCA or SVD, we will see more of their practical usage.\n"
      ]
    },
    {
      "cell_type": "markdown",
      "metadata": {
        "id": "AxicYPIWMjKY"
      },
      "source": [
        "## 5.2. Computational Methods"
      ]
    },
    {
      "cell_type": "markdown",
      "metadata": {
        "id": "POq3U-B_MuhL"
      },
      "source": [
        "When dealing with eigenvectors and eigenvalues, we have generally two main computational approaches:\n",
        "\n",
        "- Direct Calculation: Used when we have a small matrix and can manually calculate the eigenvalues and eigenvectors. Involves setting up and solving (Av - λv = 0) for multiple variables. Cannot be conveniently applied to larger matrices.\n",
        "\n",
        "- Iterative Methods: Used for larger matrices where direct calculation becomes infeasible. Iterative methods, such as the Power Iteration method, can approximate eigenvalues and eigenvectors efficiently.\n",
        "\n",
        "When the size of the matrix increases (which is quite common in applications like machine learning and data science), manual calculation becomes formidable, if not impossible. Luckily, there are numerous efficient numerical linear algebra libraries, including PyTorch, which can help us compute eigenvalues and eigenvectors swiftly even for large matrices."
      ]
    },
    {
      "cell_type": "markdown",
      "metadata": {
        "id": "el1PZ8wGM4pV"
      },
      "source": [
        "In PyTorch, we use torch.linalg.eig(A), which computes the eigenvalues and eigenvectors of a square matrix 'A'. The function returns a namedtuple (eigenvalues, eigenvectors).\n"
      ]
    },
    {
      "cell_type": "code",
      "execution_count": 83,
      "metadata": {
        "colab": {
          "base_uri": "https://localhost:8080/"
        },
        "id": "vVThi1jQH59V",
        "outputId": "2fc6d287-bcf9-4d00-f970-352c5290dbab"
      },
      "outputs": [
        {
          "name": "stdout",
          "output_type": "stream",
          "text": [
            "Eigenvalues: tensor([2.3820+0.j, 4.6180+0.j])\n",
            "Eigenvectors: tensor([[-0.8507+0.j, -0.5257+0.j],\n",
            "        [ 0.5257+0.j, -0.8507+0.j]])\n"
          ]
        }
      ],
      "source": [
        "# Importing PyTorch\n",
        "import torch\n",
        "\n",
        "# Defining a square matrix\n",
        "A = torch.tensor([[3.0, 1.0], [1.0, 4.0]])\n",
        "\n",
        "# Calculating Eigenvalues and Eigenvectors\n",
        "eigenvalues, eigenvectors = torch.linalg.eig(A)\n",
        "\n",
        "# Printing results\n",
        "print(f\"Eigenvalues: {eigenvalues}\")\n",
        "print(f\"Eigenvectors: {eigenvectors}\")\n"
      ]
    },
    {
      "cell_type": "markdown",
      "metadata": {
        "id": "6tVs2XptNAC1"
      },
      "source": [
        "In the code above, we first define a square matrix A, and then calculate its eigenvalues and eigenvectors with torch.linalg.eig(A).\n"
      ]
    },
    {
      "cell_type": "markdown",
      "metadata": {
        "id": "T-nRCgZwNHzS"
      },
      "source": [
        "Computing eigenvalues and eigenvectors is a fundamental operation in many machine learning algorithms, including Principal Component Analysis (PCA), Singular Value Decomposition (SVD), and many others. By understanding the theory and computational methods underlying these concepts, we'll build the foundation to understand and effectively implement such algorithms.\n"
      ]
    },
    {
      "cell_type": "markdown",
      "metadata": {},
      "source": [
        "### 5.2.1 Visualizing Eigenvectors"
      ]
    },
    {
      "cell_type": "code",
      "execution_count": 103,
      "metadata": {},
      "outputs": [
        {
          "data": {
            "image/png": "[encoded data removed]",
            "text/plain": [
              "<Figure size 800x800 with 1 Axes>"
            ]
          },
          "metadata": {},
          "output_type": "display_data"
        }
      ],
      "source": [
        "import torch\n",
        "import matplotlib.pyplot as plt\n",
        "\n",
        "# Define a 2x2 matrix\n",
        "matrix = torch.tensor([[2.0, 1.0], [1.0, 2.0]], dtype=torch.float)\n",
        "\n",
        "# Calculate eigenvalues and eigenvectors using torch.linalg.eig\n",
        "eigenvalues, eigenvectors = torch.linalg.eig(matrix)\n",
        "\n",
        "# Since the eigenvectors might be complex, we'll take their real parts for visualization\n",
        "real_eigenvectors = eigenvectors.real\n",
        "\n",
        "# Extract eigenvectors\n",
        "v1 = real_eigenvectors[:, 0]\n",
        "v2 = real_eigenvectors[:, 1]\n",
        "\n",
        "# Create a 2D plot\n",
        "plt.figure(figsize=(8, 8))\n",
        "origin = [0, 0]  # origin point\n",
        "\n",
        "# Plot the eigenvectors\n",
        "plt.quiver(*origin, *v1, color='r', scale=3, scale_units='xy', angles='xy')\n",
        "plt.quiver(*origin, *v2, color='g', scale=3, scale_units='xy', angles='xy')\n",
        "\n",
        "# Setting the limits for the axes for better visualization\n",
        "plt.xlim(-3, 3)\n",
        "plt.ylim(-3, 3)\n",
        "\n",
        "# Adding labels, title, and grid\n",
        "plt.xlabel('X axis')\n",
        "plt.ylabel('Y axis')\n",
        "plt.title('Eigenvectors Visualization')\n",
        "plt.grid(True)\n",
        "\n",
        "# Show the plot\n",
        "plt.show()\n"
      ]
    },
    {
      "cell_type": "markdown",
      "metadata": {
        "id": "s5NQzV7MNjgh"
      },
      "source": [
        "## 5.3 Applications"
      ]
    },
    {
      "cell_type": "markdown",
      "metadata": {
        "id": "9ZMOZtLWNm-m"
      },
      "source": [
        "### 5.3.1 Stability Analysis\n",
        "A system is generally considered stable if all eigenvalues of its system matrix have negative real parts. This is often relevant in the analysis of linear differential equations or linearized systems around a point of equilibrium.\n",
        "\n"
      ]
    },
    {
      "cell_type": "code",
      "execution_count": 84,
      "metadata": {
        "colab": {
          "base_uri": "https://localhost:8080/"
        },
        "id": "Xnz3B-KvM7mR",
        "outputId": "c8b3ab03-1292-464f-dd88-4e2b7259432c"
      },
      "outputs": [
        {
          "name": "stdout",
          "output_type": "stream",
          "text": [
            "Stable:\n",
            "Eigenvalues: tensor([-0.6000+0.8000j, -0.6000-0.8000j])\n"
          ]
        }
      ],
      "source": [
        "import torch\n",
        "\n",
        "def analyze_stability(matrix):\n",
        "    # Compute eigenvalues and eigenvectors using PyTorch's updated functions\n",
        "    eigenvalues, eigenvectors = torch.linalg.eig(matrix)\n",
        "\n",
        "    # Stability analysis\n",
        "    stable = True\n",
        "    for val in eigenvalues:\n",
        "        # Check if the real part of the eigenvalue is negative\n",
        "        if val.real > 0:\n",
        "            stable = False\n",
        "            break\n",
        "\n",
        "    return stable, eigenvalues, eigenvectors\n",
        "\n",
        "# Example matrix (replace this with our system matrix)\n",
        "A = torch.tensor([[0.0, -1.0], [1.0, -1.2]], dtype=torch.float32)\n",
        "\n",
        "# Perform stability analysis\n",
        "is_stable, eigenvalues, eigenvectors = analyze_stability(A)\n",
        "\n",
        "print(\"Stable:\" if is_stable else \"Unstable\")\n",
        "print(\"Eigenvalues:\", eigenvalues)\n"
      ]
    },
    {
      "cell_type": "markdown",
      "metadata": {
        "id": "ESZDbRUPOYSJ"
      },
      "source": [
        "### 5.3.2. Principal Component Analysis\n",
        "\n",
        "PCA is a technique used to emphasize variation and bring out strong patterns in a dataset. It's often used to make data easy to explore and visualize. PCA transforms the input vectors into a new coordinate system (the \"principal components\"). The transformation is performed in such a way that the first principal component accounts for as much of the variability in the data as possible. This is achieved by diagonalizing (through linear transformation) the covariance matrix of the data, which effectively means finding its eigenvalues and eigenvectors."
      ]
    },
    {
      "cell_type": "code",
      "execution_count": 85,
      "metadata": {
        "colab": {
          "base_uri": "https://localhost:8080/"
        },
        "id": "nEdCkZNGOB3R",
        "outputId": "850d18c0-cfc2-4766-b663-fd435bba05a2"
      },
      "outputs": [
        {
          "name": "stdout",
          "output_type": "stream",
          "text": [
            "tensor([[-1.0307, -0.2121],\n",
            "        [ 2.1905,  0.1689],\n",
            "        [-1.1782,  0.4758],\n",
            "        [-0.3233,  0.1612],\n",
            "        [-2.0722, -0.2512],\n",
            "        [-1.1012,  0.2187],\n",
            "        [ 0.0879, -0.4301],\n",
            "        [ 1.4061,  0.0528],\n",
            "        [ 0.5381,  0.0202],\n",
            "        [ 1.4831, -0.2043]])\n"
          ]
        }
      ],
      "source": [
        "import torch\n",
        "\n",
        "def pca(data, n_components):\n",
        "    # Step 1: Standardize the data\n",
        "    mean = torch.mean(data, 0)\n",
        "    std_dev = torch.std(data, 0)\n",
        "    standardized_data = (data - mean) / std_dev\n",
        "\n",
        "    # Step 2: Compute the covariance matrix\n",
        "    covariance_matrix = torch.mm(standardized_data.t(), standardized_data) / (data.size(0) - 1)\n",
        "\n",
        "    # Step 3: Compute the eigenvalues and eigenvectors\n",
        "    eigenvalues, eigenvectors = torch.linalg.eig(covariance_matrix)\n",
        "\n",
        "    # Step 4: Sort eigenvectors by the magnitude of eigenvalues in descending order\n",
        "    eig_vals_abs = torch.abs(eigenvalues)\n",
        "    sorted_indices = torch.argsort(eig_vals_abs, descending=True)\n",
        "    sorted_eigenvectors = eigenvectors[:, sorted_indices]\n",
        "\n",
        "    # Step 5: Select the top n_components eigenvectors\n",
        "    components = sorted_eigenvectors[:, :n_components].real\n",
        "\n",
        "    # Step 6: Project the data onto the principal components\n",
        "    transformed_data = torch.mm(standardized_data, components)\n",
        "\n",
        "    return transformed_data\n",
        "\n",
        "# Example usage\n",
        "data = torch.tensor([[2.5, 2.4], [0.5, 0.7], [2.2, 2.9], [1.9, 2.2], [3.1, 3.0], [2.3, 2.7], [2.0, 1.6], [1.0, 1.1], [1.5, 1.6], [1.1, 0.9]], dtype=torch.float32)\n",
        "n_components = 2\n",
        "\n",
        "transformed_data = pca(data, n_components)\n",
        "print(transformed_data)\n"
      ]
    },
    {
      "cell_type": "markdown",
      "metadata": {
        "id": "K0LBzQs6SjBO"
      },
      "source": [
        "# 6. Applications of Linear *Algebra*"
      ]
    },
    {
      "cell_type": "markdown",
      "metadata": {
        "id": "eLgTr90cSnQ7"
      },
      "source": [
        "## 6.1 Network *Analysis*"
      ]
    },
    {
      "cell_type": "markdown",
      "metadata": {
        "id": "0Yzamu34S19b"
      },
      "source": [
        "*We* will use the Zachary's Karate Club network, a well-known social network dataset\n"
      ]
    },
    {
      "cell_type": "code",
      "execution_count": 86,
      "metadata": {
        "colab": {
          "base_uri": "https://localhost:8080/",
          "height": 877
        },
        "id": "rs2rZkvTPIeQ",
        "outputId": "7c381b48-cf61-4f9b-9835-6217dab12af1"
      },
      "outputs": [
        {
          "data": {
            "image/png": "[encoded data removed]",
            "text/plain": [
              "<Figure size 800x800 with 1 Axes>"
            ]
          },
          "metadata": {},
          "output_type": "display_data"
        },
        {
          "name": "stdout",
          "output_type": "stream",
          "text": [
            "The graph has 34 nodes and 78 edges.\n"
          ]
        }
      ],
      "source": [
        "import numpy as np\n",
        "import networkx as nx\n",
        "import matplotlib.pyplot as plt\n",
        "\n",
        "# Load the Zachary's Karate Club graph\n",
        "karate_club_graph = nx.karate_club_graph()\n",
        "\n",
        "# Draw the network\n",
        "plt.figure(figsize=(8, 8))\n",
        "nx.draw_spring(karate_club_graph, with_labels=True, node_color='lightblue', font_weight='bold')\n",
        "plt.title(\"Zachary's Karate Club Network\")\n",
        "plt.show()\n",
        "\n",
        "# Display basic information about the network\n",
        "num_nodes = karate_club_graph.number_of_nodes()\n",
        "num_edges = karate_club_graph.number_of_edges()\n",
        "print(f\"The graph has {num_nodes} nodes and {num_edges} edges.\")\n"
      ]
    },
    {
      "cell_type": "code",
      "execution_count": 87,
      "metadata": {
        "colab": {
          "base_uri": "https://localhost:8080/"
        },
        "id": "8wUne5xBTACu",
        "outputId": "42aab7f9-8500-4009-d9e3-f574e34d887d"
      },
      "outputs": [
        {
          "data": {
            "text/plain": [
              "([(33, 0.5151515151515151),\n",
              "  (0, 0.48484848484848486),\n",
              "  (32, 0.36363636363636365),\n",
              "  (2, 0.30303030303030304),\n",
              "  (1, 0.2727272727272727)],\n",
              " [(33, 0.37337121301323506),\n",
              "  (0, 0.35548349418519426),\n",
              "  (2, 0.3171893899684447),\n",
              "  (32, 0.3086510477336959),\n",
              "  (1, 0.2659538704545024)],\n",
              " [(0, 0.43763528138528146),\n",
              "  (33, 0.30407497594997596),\n",
              "  (32, 0.145247113997114),\n",
              "  (2, 0.14365680615680618),\n",
              "  (31, 0.13827561327561325)],\n",
              " [(0, 0.5689655172413793),\n",
              "  (2, 0.559322033898305),\n",
              "  (33, 0.55),\n",
              "  (31, 0.5409836065573771),\n",
              "  (8, 0.515625)])"
            ]
          },
          "execution_count": 87,
          "metadata": {},
          "output_type": "execute_result"
        }
      ],
      "source": [
        "# Compute centrality measures\n",
        "\n",
        "# 1. Degree Centrality\n",
        "degree_centrality = nx.degree_centrality(karate_club_graph)\n",
        "\n",
        "# 2. Eigenvector Centrality\n",
        "eigenvector_centrality = nx.eigenvector_centrality(karate_club_graph)\n",
        "\n",
        "# 3. Betweenness Centrality\n",
        "betweenness_centrality = nx.betweenness_centrality(karate_club_graph)\n",
        "\n",
        "# 4. Closeness Centrality\n",
        "closeness_centrality = nx.closeness_centrality(karate_club_graph)\n",
        "\n",
        "# Display the top 5 nodes based on each centrality measure\n",
        "top_degree = sorted(degree_centrality.items(), key=lambda x: x[1], reverse=True)[:5]\n",
        "top_eigenvector = sorted(eigenvector_centrality.items(), key=lambda x: x[1], reverse=True)[:5]\n",
        "top_betweenness = sorted(betweenness_centrality.items(), key=lambda x: x[1], reverse=True)[:5]\n",
        "top_closeness = sorted(closeness_centrality.items(), key=lambda x: x[1], reverse=True)[:5]\n",
        "\n",
        "top_degree, top_eigenvector, top_betweenness, top_closeness\n"
      ]
    },
    {
      "cell_type": "code",
      "execution_count": 88,
      "metadata": {
        "colab": {
          "base_uri": "https://localhost:8080/"
        },
        "id": "BqINEMCQTkMd",
        "outputId": "842aeb1a-0c90-4bf7-acad-1bb5884b272e"
      },
      "outputs": [
        {
          "name": "stdout",
          "output_type": "stream",
          "text": [
            "Top 5 Nodes by Degree Centrality: [(33, 0.5151515151515151), (0, 0.48484848484848486), (32, 0.36363636363636365), (2, 0.30303030303030304), (1, 0.2727272727272727)]\n",
            "Top 5 Nodes by Eigenvector Centrality: [(33, 0.37337121301323506), (0, 0.35548349418519426), (2, 0.3171893899684447), (32, 0.3086510477336959), (1, 0.2659538704545024)]\n",
            "Top 5 Nodes by Betweenness Centrality: [(0, 0.43763528138528146), (33, 0.30407497594997596), (32, 0.145247113997114), (2, 0.14365680615680618), (31, 0.13827561327561325)]\n",
            "Top 5 Nodes by Closeness Centrality: [(0, 0.5689655172413793), (2, 0.559322033898305), (33, 0.55), (31, 0.5409836065573771), (8, 0.515625)]\n"
          ]
        }
      ],
      "source": [
        "# Function to get top 5 nodes for a centrality measure\n",
        "def get_top_five(centrality):\n",
        "    return sorted(centrality.items(), key=lambda x: x[1], reverse=True)[:5]\n",
        "\n",
        "# Display the top 5 nodes based on each centrality measure\n",
        "top_degree = get_top_five(degree_centrality)\n",
        "top_eigenvector = get_top_five(eigenvector_centrality)\n",
        "top_betweenness = get_top_five(betweenness_centrality)\n",
        "top_closeness = get_top_five(closeness_centrality)\n",
        "\n",
        "print(\"Top 5 Nodes by Degree Centrality:\", top_degree)\n",
        "print(\"Top 5 Nodes by Eigenvector Centrality:\", top_eigenvector)\n",
        "print(\"Top 5 Nodes by Betweenness Centrality:\", top_betweenness)\n",
        "print(\"Top 5 Nodes by Closeness Centrality:\", top_closeness)"
      ]
    },
    {
      "cell_type": "markdown",
      "metadata": {
        "id": "F1_Vt_PQUec8"
      },
      "source": [
        "Analyzing the above using various centrality measures provides intuitive insights into the structure and dynamics of the network.\n",
        "\n",
        "- Degree Centrality: It reflects how many connections (edges) each node (member) has. In the context of the Karate Club, a high degree centrality means a member interacts with many other members. This member could be a social hub or a popular person within the club.\n",
        "\n",
        "- Eigenvector Centrality: This measure considers not just the number of connections a node has, but also the quality of these connections. In simple terms, it's not just about how many people we know, but how influential those people are. A high eigenvector centrality indicates a member is connected to other members who themselves are well connected or influential.\n",
        "\n",
        "- Betweenness Centrality: This measure indicates how often a node appears on the shortest paths between other nodes. A member with high betweenness centrality plays a role of a bridge or broker within the club, connecting different groups or individuals who might not be directly connected to each other. They are crucial for information flow within the network.\n",
        "\n",
        "- Closeness Centrality: It signifies how close a node is to all other nodes in the network. A member with high closeness centrality can spread information efficiently through the club because they are on average 'closer' to all other members in terms of interactions."
      ]
    },
    {
      "cell_type": "markdown",
      "metadata": {
        "id": "S6Wocs8haJGG"
      },
      "source": [
        "## 6.2 Markov Chain"
      ]
    },
    {
      "cell_type": "markdown",
      "metadata": {
        "id": "i67xYuj6a6qg"
      },
      "source": [
        "A Markov Chain is a stochastic model describing a sequence of possible events, where the probability of each event depends only on the state attained in the previous event.\n",
        "\n",
        "In our example, we'll create a simple Markov Chain with a few states and demonstrate how to transition between states based on probabilities.\n",
        "\n",
        "Here's the plan:\n",
        "1. Define the states.\n",
        "2. Create a transition matrix that defines the probability of moving from one state to another.\n",
        "3. Implement the Markov Chain transitions in PyTorch.\n",
        "\n"
      ]
    },
    {
      "cell_type": "code",
      "execution_count": 89,
      "metadata": {
        "colab": {
          "base_uri": "https://localhost:8080/"
        },
        "id": "WwHcm9ypTsIw",
        "outputId": "71441243-a1c6-45aa-c2ba-7d734464b7f9"
      },
      "outputs": [
        {
          "name": "stdout",
          "output_type": "stream",
          "text": [
            "Transitioned from state 0 to state 2\n",
            "Transitioned from state 2 to state 0\n",
            "Transitioned from state 0 to state 2\n",
            "Transitioned from state 2 to state 2\n",
            "Transitioned from state 2 to state 0\n",
            "Transitioned from state 0 to state 2\n",
            "Transitioned from state 2 to state 2\n",
            "Transitioned from state 2 to state 1\n",
            "Transitioned from state 1 to state 2\n",
            "Transitioned from state 2 to state 2\n"
          ]
        }
      ],
      "source": [
        "import torch\n",
        "\n",
        "# Define the states\n",
        "# For example, let's consider 3 states: A, B, and C.\n",
        "num_states = 3\n",
        "\n",
        "# Create a transition matrix\n",
        "# For simplicity, we'll initialize it with some predefined probabilities.\n",
        "# These probabilities should sum up to 1 for each row.\n",
        "transition_matrix = torch.tensor([[0.2, 0.5, 0.3],  # Probabilities from A to A, B, and C\n",
        "                                  [0.4, 0.3, 0.3],  # Probabilities from B to A, B, and C\n",
        "                                  [0.3, 0.3, 0.4]]) # Probabilities from C to A, B, and C\n",
        "\n",
        "# Ensure that the transition matrix is a valid probability matrix\n",
        "assert torch.all(transition_matrix >= 0) and torch.all(transition_matrix.sum(dim=1) == 1), \"Matrix rows must sum to 1\"\n",
        "\n",
        "# Function to perform a step in the Markov Chain\n",
        "def step(state, transition_matrix):\n",
        "    \"\"\"\n",
        "    Given the current state and the transition matrix, performs a step in the Markov Chain.\n",
        "\n",
        "    Args:\n",
        "    - state (int): The current state (0 for A, 1 for B, 2 for C)\n",
        "    - transition_matrix (Tensor): The state transition matrix\n",
        "\n",
        "    Returns:\n",
        "    - int: The next state\n",
        "    \"\"\"\n",
        "    return torch.multinomial(transition_matrix[state], 1).item()\n",
        "\n",
        "# Example usage\n",
        "current_state = 0  # Starting at state A\n",
        "for _ in range(10):  # Run for 10 steps\n",
        "    next_state = step(current_state, transition_matrix)\n",
        "    print(f\"Transitioned from state {current_state} to state {next_state}\")\n",
        "    current_state = next_state"
      ]
    },
    {
      "cell_type": "markdown",
      "metadata": {
        "id": "GI9f6Spma_KP"
      },
      "source": [
        "In this code:\n",
        "- We define a simple set of states (A, B, C) and represent them as 0, 1, 2.\n",
        "- We create a transition matrix where each row sums up to 1, representing the probability of transitioning to each state from a given state.\n",
        "- We define a `step` function that uses the `torch.multinomial` function to choose the next state based on the current state's transition probabilities.\n",
        "- We simulate a Markov Chain for 10 steps starting from state A (represented as 0).\n"
      ]
    }
  ],
  "metadata": {
    "colab": {
      "provenance": [],
      "toc_visible": true
    },
    "kernelspec": {
      "display_name": "Python 3",
      "name": "python3"
    },
    "language_info": {
      "codemirror_mode": {
        "name": "ipython",
        "version": 3
      },
      "file_extension": ".py",
      "mimetype": "text/x-python",
      "name": "python",
      "nbconvert_exporter": "python",
      "pygments_lexer": "ipython3",
      "version": "3.11.4"
    }
  },
  "nbformat": 4,
  "nbformat_minor": 0
}
